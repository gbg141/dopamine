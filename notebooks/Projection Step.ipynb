{
 "cells": [
  {
   "cell_type": "code",
   "execution_count": 1,
   "metadata": {},
   "outputs": [],
   "source": [
    "import numpy as np\n",
    "import math\n",
    "import tensorflow as tf\n",
    "sess = tf.InteractiveSession()"
   ]
  },
  {
   "cell_type": "code",
   "execution_count": 2,
   "metadata": {},
   "outputs": [],
   "source": [
    "ratio_exp_base = 2\n",
    "ratio_max_exp = 2\n",
    "ratio_min_exp = -ratio_max_exp\n",
    "ratio_support = tf.constant([ratio_exp_base**exp for exp in \n",
    "                             range(ratio_min_exp,ratio_max_exp+1)])\n",
    "ratio_num_atoms = tf.shape(ratio_support)[0]\n",
    "ratio_cmin = ratio_support[0]\n",
    "ratio_cmax = ratio_support[-1]"
   ]
  },
  {
   "cell_type": "code",
   "execution_count": 3,
   "metadata": {},
   "outputs": [
    {
     "data": {
      "text/plain": [
       "array([0.25, 0.5 , 1.  , 2.  , 4.  ], dtype=float32)"
      ]
     },
     "execution_count": 3,
     "metadata": {},
     "output_type": "execute_result"
    }
   ],
   "source": [
    "ratio_support.eval()"
   ]
  },
  {
   "cell_type": "code",
   "execution_count": 4,
   "metadata": {},
   "outputs": [],
   "source": [
    "supports = tf.constant([[ 2.25,  4.5 ,  9.  , 18.  , 36.  ],\n",
    "                        [0.025, 0.05 , 0.1  , 0.2  , 0.4  ]])\n",
    "weights = tf.constant([[0.1, 0.6, 0.1, 0.1, 0.1],\n",
    "                       [0.1, 0.2, 0.5, 0.1, 0.1]])\n",
    "target_support = ratio_support"
   ]
  },
  {
   "cell_type": "code",
   "execution_count": 5,
   "metadata": {},
   "outputs": [
    {
     "data": {
      "text/plain": [
       "array([[2.25e+00, 4.50e+00, 9.00e+00, 1.80e+01, 3.60e+01],\n",
       "       [2.50e-02, 5.00e-02, 1.00e-01, 2.00e-01, 4.00e-01]], dtype=float32)"
      ]
     },
     "execution_count": 5,
     "metadata": {},
     "output_type": "execute_result"
    }
   ],
   "source": [
    "supports.eval()"
   ]
  },
  {
   "cell_type": "code",
   "execution_count": 6,
   "metadata": {},
   "outputs": [],
   "source": [
    "target_support_deltas_forward = tf.pad(target_support[1:] - target_support[:-1], \n",
    "                                       tf.constant([[0,1]]), constant_values=1)\n",
    "target_support_deltas_backward = tf.pad(target_support[:-1] - target_support[1:],\n",
    "                                        tf.constant([[1,0]]), constant_values=-1)"
   ]
  },
  {
   "cell_type": "code",
   "execution_count": 7,
   "metadata": {},
   "outputs": [
    {
     "data": {
      "text/plain": [
       "array([-1.  , -0.25, -0.5 , -1.  , -2.  ], dtype=float32)"
      ]
     },
     "execution_count": 7,
     "metadata": {},
     "output_type": "execute_result"
    }
   ],
   "source": [
    "target_support_deltas_backward.eval()"
   ]
  },
  {
   "cell_type": "code",
   "execution_count": 8,
   "metadata": {},
   "outputs": [
    {
     "data": {
      "text/plain": [
       "array([0.25, 0.5 , 1.  , 2.  , 1.  , 1.  ], dtype=float32)"
      ]
     },
     "execution_count": 8,
     "metadata": {},
     "output_type": "execute_result"
    }
   ],
   "source": [
    "tf.pad(target_support_deltas_forward, tf.constant([[0,1]]), constant_values=1).eval()"
   ]
  },
  {
   "cell_type": "code",
   "execution_count": 9,
   "metadata": {},
   "outputs": [],
   "source": [
    "batch_size = tf.shape(supports)[0]\n",
    "num_dims = tf.shape(target_support)[0]\n",
    "v_min, v_max = target_support[0], target_support[-1]"
   ]
  },
  {
   "cell_type": "code",
   "execution_count": 10,
   "metadata": {},
   "outputs": [],
   "source": [
    "clipped_support = tf.clip_by_value(supports, v_min, v_max)[:, None, :]"
   ]
  },
  {
   "cell_type": "code",
   "execution_count": 11,
   "metadata": {},
   "outputs": [],
   "source": [
    "tiled_support = tf.tile([clipped_support], [1, 1, num_dims, 1])"
   ]
  },
  {
   "cell_type": "code",
   "execution_count": 12,
   "metadata": {},
   "outputs": [
    {
     "data": {
      "text/plain": [
       "<tf.Tensor 'Tile:0' shape=(1, 2, 5, 5) dtype=float32>"
      ]
     },
     "execution_count": 12,
     "metadata": {},
     "output_type": "execute_result"
    }
   ],
   "source": [
    "tiled_support"
   ]
  },
  {
   "cell_type": "code",
   "execution_count": 13,
   "metadata": {},
   "outputs": [],
   "source": [
    "reshaped_target_support = tf.tile(target_support[:, None], [batch_size, 1])\n",
    "reshaped_target_support = tf.reshape(reshaped_target_support, \n",
    "                                     [batch_size, num_dims, 1])"
   ]
  },
  {
   "cell_type": "code",
   "execution_count": 14,
   "metadata": {},
   "outputs": [
    {
     "data": {
      "text/plain": [
       "<tf.Tensor 'Reshape:0' shape=(2, 5, 1) dtype=float32>"
      ]
     },
     "execution_count": 14,
     "metadata": {},
     "output_type": "execute_result"
    }
   ],
   "source": [
    "reshaped_target_support"
   ]
  },
  {
   "cell_type": "code",
   "execution_count": 15,
   "metadata": {},
   "outputs": [],
   "source": [
    "reshaped_target_support_deltas_forward = tf.tile(target_support_deltas_forward[:, None], \n",
    "                                                 [batch_size, num_dims])\n",
    "reshaped_target_support_deltas_forward = tf.reshape(reshaped_target_support_deltas_forward,\n",
    "                                                    [batch_size, num_dims, num_dims])"
   ]
  },
  {
   "cell_type": "code",
   "execution_count": 16,
   "metadata": {},
   "outputs": [
    {
     "data": {
      "text/plain": [
       "array([[[0.25, 0.25, 0.25, 0.25, 0.25],\n",
       "        [0.5 , 0.5 , 0.5 , 0.5 , 0.5 ],\n",
       "        [1.  , 1.  , 1.  , 1.  , 1.  ],\n",
       "        [2.  , 2.  , 2.  , 2.  , 2.  ],\n",
       "        [1.  , 1.  , 1.  , 1.  , 1.  ]],\n",
       "\n",
       "       [[0.25, 0.25, 0.25, 0.25, 0.25],\n",
       "        [0.5 , 0.5 , 0.5 , 0.5 , 0.5 ],\n",
       "        [1.  , 1.  , 1.  , 1.  , 1.  ],\n",
       "        [2.  , 2.  , 2.  , 2.  , 2.  ],\n",
       "        [1.  , 1.  , 1.  , 1.  , 1.  ]]], dtype=float32)"
      ]
     },
     "execution_count": 16,
     "metadata": {},
     "output_type": "execute_result"
    }
   ],
   "source": [
    "reshaped_target_support_deltas_forward.eval()"
   ]
  },
  {
   "cell_type": "code",
   "execution_count": 17,
   "metadata": {},
   "outputs": [],
   "source": [
    "reshaped_target_support_deltas_backward = tf.tile(target_support_deltas_backward[:, None], \n",
    "                                                 [batch_size, num_dims])\n",
    "reshaped_target_support_deltas_backward = tf.reshape(reshaped_target_support_deltas_backward,\n",
    "                                                    [batch_size, num_dims, num_dims])"
   ]
  },
  {
   "cell_type": "code",
   "execution_count": 18,
   "metadata": {},
   "outputs": [
    {
     "data": {
      "text/plain": [
       "<tf.Tensor 'Reshape_2:0' shape=(2, 5, 5) dtype=float32>"
      ]
     },
     "execution_count": 18,
     "metadata": {},
     "output_type": "execute_result"
    }
   ],
   "source": [
    "reshaped_target_support_deltas_backward"
   ]
  },
  {
   "cell_type": "code",
   "execution_count": 19,
   "metadata": {},
   "outputs": [],
   "source": [
    "numerator = tiled_support - reshaped_target_support\n",
    "numerator_sign_mask = numerator < 0"
   ]
  },
  {
   "cell_type": "code",
   "execution_count": 20,
   "metadata": {},
   "outputs": [
    {
     "data": {
      "text/plain": [
       "array([[[[ 2.        ,  3.75      ,  3.75      ,  3.75      ,\n",
       "           3.75      ],\n",
       "         [ 1.75      ,  3.5       ,  3.5       ,  3.5       ,\n",
       "           3.5       ],\n",
       "         [ 1.25      ,  3.        ,  3.        ,  3.        ,\n",
       "           3.        ],\n",
       "         [ 0.25      ,  2.        ,  2.        ,  2.        ,\n",
       "           2.        ],\n",
       "         [-1.75      ,  0.        ,  0.        ,  0.        ,\n",
       "           0.        ]],\n",
       "\n",
       "        [[ 0.        ,  0.        ,  0.        ,  0.        ,\n",
       "           0.15      ],\n",
       "         [-0.25      , -0.25      , -0.25      , -0.25      ,\n",
       "          -0.09999999],\n",
       "         [-0.75      , -0.75      , -0.75      , -0.75      ,\n",
       "          -0.6       ],\n",
       "         [-1.75      , -1.75      , -1.75      , -1.75      ,\n",
       "          -1.6       ],\n",
       "         [-3.75      , -3.75      , -3.75      , -3.75      ,\n",
       "          -3.6       ]]]], dtype=float32)"
      ]
     },
     "execution_count": 20,
     "metadata": {},
     "output_type": "execute_result"
    }
   ],
   "source": [
    "numerator.eval()"
   ]
  },
  {
   "cell_type": "code",
   "execution_count": 21,
   "metadata": {},
   "outputs": [],
   "source": [
    "reshaped_target_support_deltas = tf.where(numerator_sign_mask[0], \n",
    "                                          reshaped_target_support_deltas_backward,\n",
    "                                          reshaped_target_support_deltas_forward)"
   ]
  },
  {
   "cell_type": "code",
   "execution_count": 22,
   "metadata": {},
   "outputs": [
    {
     "data": {
      "text/plain": [
       "array([[[ 0.25,  0.25,  0.25,  0.25,  0.25],\n",
       "        [ 0.5 ,  0.5 ,  0.5 ,  0.5 ,  0.5 ],\n",
       "        [ 1.  ,  1.  ,  1.  ,  1.  ,  1.  ],\n",
       "        [ 2.  ,  2.  ,  2.  ,  2.  ,  2.  ],\n",
       "        [-2.  ,  1.  ,  1.  ,  1.  ,  1.  ]],\n",
       "\n",
       "       [[ 0.25,  0.25,  0.25,  0.25,  0.25],\n",
       "        [-0.25, -0.25, -0.25, -0.25, -0.25],\n",
       "        [-0.5 , -0.5 , -0.5 , -0.5 , -0.5 ],\n",
       "        [-1.  , -1.  , -1.  , -1.  , -1.  ],\n",
       "        [-2.  , -2.  , -2.  , -2.  , -2.  ]]], dtype=float32)"
      ]
     },
     "execution_count": 22,
     "metadata": {},
     "output_type": "execute_result"
    }
   ],
   "source": [
    "reshaped_target_support_deltas.eval()"
   ]
  },
  {
   "cell_type": "code",
   "execution_count": 23,
   "metadata": {},
   "outputs": [],
   "source": [
    "quotient = 1 - numerator / reshaped_target_support_deltas"
   ]
  },
  {
   "cell_type": "code",
   "execution_count": 24,
   "metadata": {},
   "outputs": [
    {
     "data": {
      "text/plain": [
       "array([[[[ -7.        , -14.        , -14.        , -14.        ,\n",
       "          -14.        ],\n",
       "         [ -2.5       ,  -6.        ,  -6.        ,  -6.        ,\n",
       "           -6.        ],\n",
       "         [ -0.25      ,  -2.        ,  -2.        ,  -2.        ,\n",
       "           -2.        ],\n",
       "         [  0.875     ,   0.        ,   0.        ,   0.        ,\n",
       "            0.        ],\n",
       "         [  0.125     ,   1.        ,   1.        ,   1.        ,\n",
       "            1.        ]],\n",
       "\n",
       "        [[  1.        ,   1.        ,   1.        ,   1.        ,\n",
       "            0.39999998],\n",
       "         [  0.        ,   0.        ,   0.        ,   0.        ,\n",
       "            0.6       ],\n",
       "         [ -0.5       ,  -0.5       ,  -0.5       ,  -0.5       ,\n",
       "           -0.20000005],\n",
       "         [ -0.75      ,  -0.75      ,  -0.75      ,  -0.75      ,\n",
       "           -0.6       ],\n",
       "         [ -0.875     ,  -0.875     ,  -0.875     ,  -0.875     ,\n",
       "           -0.79999995]]]], dtype=float32)"
      ]
     },
     "execution_count": 24,
     "metadata": {},
     "output_type": "execute_result"
    }
   ],
   "source": [
    "quotient.eval()"
   ]
  },
  {
   "cell_type": "code",
   "execution_count": 25,
   "metadata": {},
   "outputs": [],
   "source": [
    "clipped_quotient = tf.clip_by_value(quotient, 0, 1)"
   ]
  },
  {
   "cell_type": "code",
   "execution_count": 26,
   "metadata": {},
   "outputs": [
    {
     "data": {
      "text/plain": [
       "array([[[[0.        , 0.        , 0.        , 0.        , 0.        ],\n",
       "         [0.        , 0.        , 0.        , 0.        , 0.        ],\n",
       "         [0.        , 0.        , 0.        , 0.        , 0.        ],\n",
       "         [0.875     , 0.        , 0.        , 0.        , 0.        ],\n",
       "         [0.125     , 1.        , 1.        , 1.        , 1.        ]],\n",
       "\n",
       "        [[1.        , 1.        , 1.        , 1.        , 0.39999998],\n",
       "         [0.        , 0.        , 0.        , 0.        , 0.6       ],\n",
       "         [0.        , 0.        , 0.        , 0.        , 0.        ],\n",
       "         [0.        , 0.        , 0.        , 0.        , 0.        ],\n",
       "         [0.        , 0.        , 0.        , 0.        , 0.        ]]]],\n",
       "      dtype=float32)"
      ]
     },
     "execution_count": 26,
     "metadata": {},
     "output_type": "execute_result"
    }
   ],
   "source": [
    "clipped_quotient.eval()"
   ]
  },
  {
   "cell_type": "code",
   "execution_count": 27,
   "metadata": {},
   "outputs": [],
   "source": [
    "weights = weights[:, None, :]\n",
    "\n",
    "inner_prod = clipped_quotient * weights\n",
    "\n",
    "projection = tf.reduce_sum(inner_prod, 3)\n",
    "projection = tf.reshape(projection, [batch_size, num_dims])"
   ]
  },
  {
   "cell_type": "code",
   "execution_count": 28,
   "metadata": {},
   "outputs": [
    {
     "data": {
      "text/plain": [
       "array([[0.        , 0.        , 0.        , 0.0875    , 0.9125001 ],\n",
       "       [0.94000006, 0.06      , 0.        , 0.        , 0.        ]],\n",
       "      dtype=float32)"
      ]
     },
     "execution_count": 28,
     "metadata": {},
     "output_type": "execute_result"
    }
   ],
   "source": [
    "projection.eval()"
   ]
  },
  {
   "cell_type": "code",
   "execution_count": 145,
   "metadata": {},
   "outputs": [],
   "source": [
    "import matplotlib\n",
    "#from matplotlib import gridspec\n",
    "import matplotlib.pyplot as plt\n",
    "%matplotlib notebook\n",
    "\n",
    "def plot_c_value_distribution(c_value, support, dist_values, width): \n",
    "    fig, ax = plt.subplots(figsize=(5, 3))\n",
    "    ax.set_title('c: ' + str(c_value))\n",
    "    ax.set_xlabel('c value')\n",
    "    ax.set_ylabel('probability')\n",
    "    ax.bar(support, dist_values, width=width, alpha=0.5, align='edge', linewidth=1, edgecolor='black')\n",
    "    fig.canvas.draw()\n",
    "    # Now we can save it to a numpy array.\n",
    "    #dist = np.fromstring(fig.canvas.tostring_rgb(), dtype=np.uint8, sep='')\n",
    "    #dist = dist.reshape(fig.canvas.get_width_height()[::-1] + (3,))\n",
    "    #plt.close('all')\n",
    "    #return dist"
   ]
  },
  {
   "cell_type": "code",
   "execution_count": 146,
   "metadata": {},
   "outputs": [
    {
     "data": {
      "application/javascript": [
       "/* Put everything inside the global mpl namespace */\n",
       "window.mpl = {};\n",
       "\n",
       "\n",
       "mpl.get_websocket_type = function() {\n",
       "    if (typeof(WebSocket) !== 'undefined') {\n",
       "        return WebSocket;\n",
       "    } else if (typeof(MozWebSocket) !== 'undefined') {\n",
       "        return MozWebSocket;\n",
       "    } else {\n",
       "        alert('Your browser does not have WebSocket support.' +\n",
       "              'Please try Chrome, Safari or Firefox ≥ 6. ' +\n",
       "              'Firefox 4 and 5 are also supported but you ' +\n",
       "              'have to enable WebSockets in about:config.');\n",
       "    };\n",
       "}\n",
       "\n",
       "mpl.figure = function(figure_id, websocket, ondownload, parent_element) {\n",
       "    this.id = figure_id;\n",
       "\n",
       "    this.ws = websocket;\n",
       "\n",
       "    this.supports_binary = (this.ws.binaryType != undefined);\n",
       "\n",
       "    if (!this.supports_binary) {\n",
       "        var warnings = document.getElementById(\"mpl-warnings\");\n",
       "        if (warnings) {\n",
       "            warnings.style.display = 'block';\n",
       "            warnings.textContent = (\n",
       "                \"This browser does not support binary websocket messages. \" +\n",
       "                    \"Performance may be slow.\");\n",
       "        }\n",
       "    }\n",
       "\n",
       "    this.imageObj = new Image();\n",
       "\n",
       "    this.context = undefined;\n",
       "    this.message = undefined;\n",
       "    this.canvas = undefined;\n",
       "    this.rubberband_canvas = undefined;\n",
       "    this.rubberband_context = undefined;\n",
       "    this.format_dropdown = undefined;\n",
       "\n",
       "    this.image_mode = 'full';\n",
       "\n",
       "    this.root = $('<div/>');\n",
       "    this._root_extra_style(this.root)\n",
       "    this.root.attr('style', 'display: inline-block');\n",
       "\n",
       "    $(parent_element).append(this.root);\n",
       "\n",
       "    this._init_header(this);\n",
       "    this._init_canvas(this);\n",
       "    this._init_toolbar(this);\n",
       "\n",
       "    var fig = this;\n",
       "\n",
       "    this.waiting = false;\n",
       "\n",
       "    this.ws.onopen =  function () {\n",
       "            fig.send_message(\"supports_binary\", {value: fig.supports_binary});\n",
       "            fig.send_message(\"send_image_mode\", {});\n",
       "            if (mpl.ratio != 1) {\n",
       "                fig.send_message(\"set_dpi_ratio\", {'dpi_ratio': mpl.ratio});\n",
       "            }\n",
       "            fig.send_message(\"refresh\", {});\n",
       "        }\n",
       "\n",
       "    this.imageObj.onload = function() {\n",
       "            if (fig.image_mode == 'full') {\n",
       "                // Full images could contain transparency (where diff images\n",
       "                // almost always do), so we need to clear the canvas so that\n",
       "                // there is no ghosting.\n",
       "                fig.context.clearRect(0, 0, fig.canvas.width, fig.canvas.height);\n",
       "            }\n",
       "            fig.context.drawImage(fig.imageObj, 0, 0);\n",
       "        };\n",
       "\n",
       "    this.imageObj.onunload = function() {\n",
       "        fig.ws.close();\n",
       "    }\n",
       "\n",
       "    this.ws.onmessage = this._make_on_message_function(this);\n",
       "\n",
       "    this.ondownload = ondownload;\n",
       "}\n",
       "\n",
       "mpl.figure.prototype._init_header = function() {\n",
       "    var titlebar = $(\n",
       "        '<div class=\"ui-dialog-titlebar ui-widget-header ui-corner-all ' +\n",
       "        'ui-helper-clearfix\"/>');\n",
       "    var titletext = $(\n",
       "        '<div class=\"ui-dialog-title\" style=\"width: 100%; ' +\n",
       "        'text-align: center; padding: 3px;\"/>');\n",
       "    titlebar.append(titletext)\n",
       "    this.root.append(titlebar);\n",
       "    this.header = titletext[0];\n",
       "}\n",
       "\n",
       "\n",
       "\n",
       "mpl.figure.prototype._canvas_extra_style = function(canvas_div) {\n",
       "\n",
       "}\n",
       "\n",
       "\n",
       "mpl.figure.prototype._root_extra_style = function(canvas_div) {\n",
       "\n",
       "}\n",
       "\n",
       "mpl.figure.prototype._init_canvas = function() {\n",
       "    var fig = this;\n",
       "\n",
       "    var canvas_div = $('<div/>');\n",
       "\n",
       "    canvas_div.attr('style', 'position: relative; clear: both; outline: 0');\n",
       "\n",
       "    function canvas_keyboard_event(event) {\n",
       "        return fig.key_event(event, event['data']);\n",
       "    }\n",
       "\n",
       "    canvas_div.keydown('key_press', canvas_keyboard_event);\n",
       "    canvas_div.keyup('key_release', canvas_keyboard_event);\n",
       "    this.canvas_div = canvas_div\n",
       "    this._canvas_extra_style(canvas_div)\n",
       "    this.root.append(canvas_div);\n",
       "\n",
       "    var canvas = $('<canvas/>');\n",
       "    canvas.addClass('mpl-canvas');\n",
       "    canvas.attr('style', \"left: 0; top: 0; z-index: 0; outline: 0\")\n",
       "\n",
       "    this.canvas = canvas[0];\n",
       "    this.context = canvas[0].getContext(\"2d\");\n",
       "\n",
       "    var backingStore = this.context.backingStorePixelRatio ||\n",
       "\tthis.context.webkitBackingStorePixelRatio ||\n",
       "\tthis.context.mozBackingStorePixelRatio ||\n",
       "\tthis.context.msBackingStorePixelRatio ||\n",
       "\tthis.context.oBackingStorePixelRatio ||\n",
       "\tthis.context.backingStorePixelRatio || 1;\n",
       "\n",
       "    mpl.ratio = (window.devicePixelRatio || 1) / backingStore;\n",
       "\n",
       "    var rubberband = $('<canvas/>');\n",
       "    rubberband.attr('style', \"position: absolute; left: 0; top: 0; z-index: 1;\")\n",
       "\n",
       "    var pass_mouse_events = true;\n",
       "\n",
       "    canvas_div.resizable({\n",
       "        start: function(event, ui) {\n",
       "            pass_mouse_events = false;\n",
       "        },\n",
       "        resize: function(event, ui) {\n",
       "            fig.request_resize(ui.size.width, ui.size.height);\n",
       "        },\n",
       "        stop: function(event, ui) {\n",
       "            pass_mouse_events = true;\n",
       "            fig.request_resize(ui.size.width, ui.size.height);\n",
       "        },\n",
       "    });\n",
       "\n",
       "    function mouse_event_fn(event) {\n",
       "        if (pass_mouse_events)\n",
       "            return fig.mouse_event(event, event['data']);\n",
       "    }\n",
       "\n",
       "    rubberband.mousedown('button_press', mouse_event_fn);\n",
       "    rubberband.mouseup('button_release', mouse_event_fn);\n",
       "    // Throttle sequential mouse events to 1 every 20ms.\n",
       "    rubberband.mousemove('motion_notify', mouse_event_fn);\n",
       "\n",
       "    rubberband.mouseenter('figure_enter', mouse_event_fn);\n",
       "    rubberband.mouseleave('figure_leave', mouse_event_fn);\n",
       "\n",
       "    canvas_div.on(\"wheel\", function (event) {\n",
       "        event = event.originalEvent;\n",
       "        event['data'] = 'scroll'\n",
       "        if (event.deltaY < 0) {\n",
       "            event.step = 1;\n",
       "        } else {\n",
       "            event.step = -1;\n",
       "        }\n",
       "        mouse_event_fn(event);\n",
       "    });\n",
       "\n",
       "    canvas_div.append(canvas);\n",
       "    canvas_div.append(rubberband);\n",
       "\n",
       "    this.rubberband = rubberband;\n",
       "    this.rubberband_canvas = rubberband[0];\n",
       "    this.rubberband_context = rubberband[0].getContext(\"2d\");\n",
       "    this.rubberband_context.strokeStyle = \"#000000\";\n",
       "\n",
       "    this._resize_canvas = function(width, height) {\n",
       "        // Keep the size of the canvas, canvas container, and rubber band\n",
       "        // canvas in synch.\n",
       "        canvas_div.css('width', width)\n",
       "        canvas_div.css('height', height)\n",
       "\n",
       "        canvas.attr('width', width * mpl.ratio);\n",
       "        canvas.attr('height', height * mpl.ratio);\n",
       "        canvas.attr('style', 'width: ' + width + 'px; height: ' + height + 'px;');\n",
       "\n",
       "        rubberband.attr('width', width);\n",
       "        rubberband.attr('height', height);\n",
       "    }\n",
       "\n",
       "    // Set the figure to an initial 600x600px, this will subsequently be updated\n",
       "    // upon first draw.\n",
       "    this._resize_canvas(600, 600);\n",
       "\n",
       "    // Disable right mouse context menu.\n",
       "    $(this.rubberband_canvas).bind(\"contextmenu\",function(e){\n",
       "        return false;\n",
       "    });\n",
       "\n",
       "    function set_focus () {\n",
       "        canvas.focus();\n",
       "        canvas_div.focus();\n",
       "    }\n",
       "\n",
       "    window.setTimeout(set_focus, 100);\n",
       "}\n",
       "\n",
       "mpl.figure.prototype._init_toolbar = function() {\n",
       "    var fig = this;\n",
       "\n",
       "    var nav_element = $('<div/>')\n",
       "    nav_element.attr('style', 'width: 100%');\n",
       "    this.root.append(nav_element);\n",
       "\n",
       "    // Define a callback function for later on.\n",
       "    function toolbar_event(event) {\n",
       "        return fig.toolbar_button_onclick(event['data']);\n",
       "    }\n",
       "    function toolbar_mouse_event(event) {\n",
       "        return fig.toolbar_button_onmouseover(event['data']);\n",
       "    }\n",
       "\n",
       "    for(var toolbar_ind in mpl.toolbar_items) {\n",
       "        var name = mpl.toolbar_items[toolbar_ind][0];\n",
       "        var tooltip = mpl.toolbar_items[toolbar_ind][1];\n",
       "        var image = mpl.toolbar_items[toolbar_ind][2];\n",
       "        var method_name = mpl.toolbar_items[toolbar_ind][3];\n",
       "\n",
       "        if (!name) {\n",
       "            // put a spacer in here.\n",
       "            continue;\n",
       "        }\n",
       "        var button = $('<button/>');\n",
       "        button.addClass('ui-button ui-widget ui-state-default ui-corner-all ' +\n",
       "                        'ui-button-icon-only');\n",
       "        button.attr('role', 'button');\n",
       "        button.attr('aria-disabled', 'false');\n",
       "        button.click(method_name, toolbar_event);\n",
       "        button.mouseover(tooltip, toolbar_mouse_event);\n",
       "\n",
       "        var icon_img = $('<span/>');\n",
       "        icon_img.addClass('ui-button-icon-primary ui-icon');\n",
       "        icon_img.addClass(image);\n",
       "        icon_img.addClass('ui-corner-all');\n",
       "\n",
       "        var tooltip_span = $('<span/>');\n",
       "        tooltip_span.addClass('ui-button-text');\n",
       "        tooltip_span.html(tooltip);\n",
       "\n",
       "        button.append(icon_img);\n",
       "        button.append(tooltip_span);\n",
       "\n",
       "        nav_element.append(button);\n",
       "    }\n",
       "\n",
       "    var fmt_picker_span = $('<span/>');\n",
       "\n",
       "    var fmt_picker = $('<select/>');\n",
       "    fmt_picker.addClass('mpl-toolbar-option ui-widget ui-widget-content');\n",
       "    fmt_picker_span.append(fmt_picker);\n",
       "    nav_element.append(fmt_picker_span);\n",
       "    this.format_dropdown = fmt_picker[0];\n",
       "\n",
       "    for (var ind in mpl.extensions) {\n",
       "        var fmt = mpl.extensions[ind];\n",
       "        var option = $(\n",
       "            '<option/>', {selected: fmt === mpl.default_extension}).html(fmt);\n",
       "        fmt_picker.append(option)\n",
       "    }\n",
       "\n",
       "    // Add hover states to the ui-buttons\n",
       "    $( \".ui-button\" ).hover(\n",
       "        function() { $(this).addClass(\"ui-state-hover\");},\n",
       "        function() { $(this).removeClass(\"ui-state-hover\");}\n",
       "    );\n",
       "\n",
       "    var status_bar = $('<span class=\"mpl-message\"/>');\n",
       "    nav_element.append(status_bar);\n",
       "    this.message = status_bar[0];\n",
       "}\n",
       "\n",
       "mpl.figure.prototype.request_resize = function(x_pixels, y_pixels) {\n",
       "    // Request matplotlib to resize the figure. Matplotlib will then trigger a resize in the client,\n",
       "    // which will in turn request a refresh of the image.\n",
       "    this.send_message('resize', {'width': x_pixels, 'height': y_pixels});\n",
       "}\n",
       "\n",
       "mpl.figure.prototype.send_message = function(type, properties) {\n",
       "    properties['type'] = type;\n",
       "    properties['figure_id'] = this.id;\n",
       "    this.ws.send(JSON.stringify(properties));\n",
       "}\n",
       "\n",
       "mpl.figure.prototype.send_draw_message = function() {\n",
       "    if (!this.waiting) {\n",
       "        this.waiting = true;\n",
       "        this.ws.send(JSON.stringify({type: \"draw\", figure_id: this.id}));\n",
       "    }\n",
       "}\n",
       "\n",
       "\n",
       "mpl.figure.prototype.handle_save = function(fig, msg) {\n",
       "    var format_dropdown = fig.format_dropdown;\n",
       "    var format = format_dropdown.options[format_dropdown.selectedIndex].value;\n",
       "    fig.ondownload(fig, format);\n",
       "}\n",
       "\n",
       "\n",
       "mpl.figure.prototype.handle_resize = function(fig, msg) {\n",
       "    var size = msg['size'];\n",
       "    if (size[0] != fig.canvas.width || size[1] != fig.canvas.height) {\n",
       "        fig._resize_canvas(size[0], size[1]);\n",
       "        fig.send_message(\"refresh\", {});\n",
       "    };\n",
       "}\n",
       "\n",
       "mpl.figure.prototype.handle_rubberband = function(fig, msg) {\n",
       "    var x0 = msg['x0'] / mpl.ratio;\n",
       "    var y0 = (fig.canvas.height - msg['y0']) / mpl.ratio;\n",
       "    var x1 = msg['x1'] / mpl.ratio;\n",
       "    var y1 = (fig.canvas.height - msg['y1']) / mpl.ratio;\n",
       "    x0 = Math.floor(x0) + 0.5;\n",
       "    y0 = Math.floor(y0) + 0.5;\n",
       "    x1 = Math.floor(x1) + 0.5;\n",
       "    y1 = Math.floor(y1) + 0.5;\n",
       "    var min_x = Math.min(x0, x1);\n",
       "    var min_y = Math.min(y0, y1);\n",
       "    var width = Math.abs(x1 - x0);\n",
       "    var height = Math.abs(y1 - y0);\n",
       "\n",
       "    fig.rubberband_context.clearRect(\n",
       "        0, 0, fig.canvas.width, fig.canvas.height);\n",
       "\n",
       "    fig.rubberband_context.strokeRect(min_x, min_y, width, height);\n",
       "}\n",
       "\n",
       "mpl.figure.prototype.handle_figure_label = function(fig, msg) {\n",
       "    // Updates the figure title.\n",
       "    fig.header.textContent = msg['label'];\n",
       "}\n",
       "\n",
       "mpl.figure.prototype.handle_cursor = function(fig, msg) {\n",
       "    var cursor = msg['cursor'];\n",
       "    switch(cursor)\n",
       "    {\n",
       "    case 0:\n",
       "        cursor = 'pointer';\n",
       "        break;\n",
       "    case 1:\n",
       "        cursor = 'default';\n",
       "        break;\n",
       "    case 2:\n",
       "        cursor = 'crosshair';\n",
       "        break;\n",
       "    case 3:\n",
       "        cursor = 'move';\n",
       "        break;\n",
       "    }\n",
       "    fig.rubberband_canvas.style.cursor = cursor;\n",
       "}\n",
       "\n",
       "mpl.figure.prototype.handle_message = function(fig, msg) {\n",
       "    fig.message.textContent = msg['message'];\n",
       "}\n",
       "\n",
       "mpl.figure.prototype.handle_draw = function(fig, msg) {\n",
       "    // Request the server to send over a new figure.\n",
       "    fig.send_draw_message();\n",
       "}\n",
       "\n",
       "mpl.figure.prototype.handle_image_mode = function(fig, msg) {\n",
       "    fig.image_mode = msg['mode'];\n",
       "}\n",
       "\n",
       "mpl.figure.prototype.updated_canvas_event = function() {\n",
       "    // Called whenever the canvas gets updated.\n",
       "    this.send_message(\"ack\", {});\n",
       "}\n",
       "\n",
       "// A function to construct a web socket function for onmessage handling.\n",
       "// Called in the figure constructor.\n",
       "mpl.figure.prototype._make_on_message_function = function(fig) {\n",
       "    return function socket_on_message(evt) {\n",
       "        if (evt.data instanceof Blob) {\n",
       "            /* FIXME: We get \"Resource interpreted as Image but\n",
       "             * transferred with MIME type text/plain:\" errors on\n",
       "             * Chrome.  But how to set the MIME type?  It doesn't seem\n",
       "             * to be part of the websocket stream */\n",
       "            evt.data.type = \"image/png\";\n",
       "\n",
       "            /* Free the memory for the previous frames */\n",
       "            if (fig.imageObj.src) {\n",
       "                (window.URL || window.webkitURL).revokeObjectURL(\n",
       "                    fig.imageObj.src);\n",
       "            }\n",
       "\n",
       "            fig.imageObj.src = (window.URL || window.webkitURL).createObjectURL(\n",
       "                evt.data);\n",
       "            fig.updated_canvas_event();\n",
       "            fig.waiting = false;\n",
       "            return;\n",
       "        }\n",
       "        else if (typeof evt.data === 'string' && evt.data.slice(0, 21) == \"data:image/png;base64\") {\n",
       "            fig.imageObj.src = evt.data;\n",
       "            fig.updated_canvas_event();\n",
       "            fig.waiting = false;\n",
       "            return;\n",
       "        }\n",
       "\n",
       "        var msg = JSON.parse(evt.data);\n",
       "        var msg_type = msg['type'];\n",
       "\n",
       "        // Call the  \"handle_{type}\" callback, which takes\n",
       "        // the figure and JSON message as its only arguments.\n",
       "        try {\n",
       "            var callback = fig[\"handle_\" + msg_type];\n",
       "        } catch (e) {\n",
       "            console.log(\"No handler for the '\" + msg_type + \"' message type: \", msg);\n",
       "            return;\n",
       "        }\n",
       "\n",
       "        if (callback) {\n",
       "            try {\n",
       "                // console.log(\"Handling '\" + msg_type + \"' message: \", msg);\n",
       "                callback(fig, msg);\n",
       "            } catch (e) {\n",
       "                console.log(\"Exception inside the 'handler_\" + msg_type + \"' callback:\", e, e.stack, msg);\n",
       "            }\n",
       "        }\n",
       "    };\n",
       "}\n",
       "\n",
       "// from http://stackoverflow.com/questions/1114465/getting-mouse-location-in-canvas\n",
       "mpl.findpos = function(e) {\n",
       "    //this section is from http://www.quirksmode.org/js/events_properties.html\n",
       "    var targ;\n",
       "    if (!e)\n",
       "        e = window.event;\n",
       "    if (e.target)\n",
       "        targ = e.target;\n",
       "    else if (e.srcElement)\n",
       "        targ = e.srcElement;\n",
       "    if (targ.nodeType == 3) // defeat Safari bug\n",
       "        targ = targ.parentNode;\n",
       "\n",
       "    // jQuery normalizes the pageX and pageY\n",
       "    // pageX,Y are the mouse positions relative to the document\n",
       "    // offset() returns the position of the element relative to the document\n",
       "    var x = e.pageX - $(targ).offset().left;\n",
       "    var y = e.pageY - $(targ).offset().top;\n",
       "\n",
       "    return {\"x\": x, \"y\": y};\n",
       "};\n",
       "\n",
       "/*\n",
       " * return a copy of an object with only non-object keys\n",
       " * we need this to avoid circular references\n",
       " * http://stackoverflow.com/a/24161582/3208463\n",
       " */\n",
       "function simpleKeys (original) {\n",
       "  return Object.keys(original).reduce(function (obj, key) {\n",
       "    if (typeof original[key] !== 'object')\n",
       "        obj[key] = original[key]\n",
       "    return obj;\n",
       "  }, {});\n",
       "}\n",
       "\n",
       "mpl.figure.prototype.mouse_event = function(event, name) {\n",
       "    var canvas_pos = mpl.findpos(event)\n",
       "\n",
       "    if (name === 'button_press')\n",
       "    {\n",
       "        this.canvas.focus();\n",
       "        this.canvas_div.focus();\n",
       "    }\n",
       "\n",
       "    var x = canvas_pos.x * mpl.ratio;\n",
       "    var y = canvas_pos.y * mpl.ratio;\n",
       "\n",
       "    this.send_message(name, {x: x, y: y, button: event.button,\n",
       "                             step: event.step,\n",
       "                             guiEvent: simpleKeys(event)});\n",
       "\n",
       "    /* This prevents the web browser from automatically changing to\n",
       "     * the text insertion cursor when the button is pressed.  We want\n",
       "     * to control all of the cursor setting manually through the\n",
       "     * 'cursor' event from matplotlib */\n",
       "    event.preventDefault();\n",
       "    return false;\n",
       "}\n",
       "\n",
       "mpl.figure.prototype._key_event_extra = function(event, name) {\n",
       "    // Handle any extra behaviour associated with a key event\n",
       "}\n",
       "\n",
       "mpl.figure.prototype.key_event = function(event, name) {\n",
       "\n",
       "    // Prevent repeat events\n",
       "    if (name == 'key_press')\n",
       "    {\n",
       "        if (event.which === this._key)\n",
       "            return;\n",
       "        else\n",
       "            this._key = event.which;\n",
       "    }\n",
       "    if (name == 'key_release')\n",
       "        this._key = null;\n",
       "\n",
       "    var value = '';\n",
       "    if (event.ctrlKey && event.which != 17)\n",
       "        value += \"ctrl+\";\n",
       "    if (event.altKey && event.which != 18)\n",
       "        value += \"alt+\";\n",
       "    if (event.shiftKey && event.which != 16)\n",
       "        value += \"shift+\";\n",
       "\n",
       "    value += 'k';\n",
       "    value += event.which.toString();\n",
       "\n",
       "    this._key_event_extra(event, name);\n",
       "\n",
       "    this.send_message(name, {key: value,\n",
       "                             guiEvent: simpleKeys(event)});\n",
       "    return false;\n",
       "}\n",
       "\n",
       "mpl.figure.prototype.toolbar_button_onclick = function(name) {\n",
       "    if (name == 'download') {\n",
       "        this.handle_save(this, null);\n",
       "    } else {\n",
       "        this.send_message(\"toolbar_button\", {name: name});\n",
       "    }\n",
       "};\n",
       "\n",
       "mpl.figure.prototype.toolbar_button_onmouseover = function(tooltip) {\n",
       "    this.message.textContent = tooltip;\n",
       "};\n",
       "mpl.toolbar_items = [[\"Home\", \"Reset original view\", \"fa fa-home icon-home\", \"home\"], [\"Back\", \"Back to previous view\", \"fa fa-arrow-left icon-arrow-left\", \"back\"], [\"Forward\", \"Forward to next view\", \"fa fa-arrow-right icon-arrow-right\", \"forward\"], [\"\", \"\", \"\", \"\"], [\"Pan\", \"Pan axes with left mouse, zoom with right\", \"fa fa-arrows icon-move\", \"pan\"], [\"Zoom\", \"Zoom to rectangle\", \"fa fa-square-o icon-check-empty\", \"zoom\"], [\"\", \"\", \"\", \"\"], [\"Download\", \"Download plot\", \"fa fa-floppy-o icon-save\", \"download\"]];\n",
       "\n",
       "mpl.extensions = [\"eps\", \"pdf\", \"png\", \"ps\", \"raw\", \"svg\"];\n",
       "\n",
       "mpl.default_extension = \"png\";var comm_websocket_adapter = function(comm) {\n",
       "    // Create a \"websocket\"-like object which calls the given IPython comm\n",
       "    // object with the appropriate methods. Currently this is a non binary\n",
       "    // socket, so there is still some room for performance tuning.\n",
       "    var ws = {};\n",
       "\n",
       "    ws.close = function() {\n",
       "        comm.close()\n",
       "    };\n",
       "    ws.send = function(m) {\n",
       "        //console.log('sending', m);\n",
       "        comm.send(m);\n",
       "    };\n",
       "    // Register the callback with on_msg.\n",
       "    comm.on_msg(function(msg) {\n",
       "        //console.log('receiving', msg['content']['data'], msg);\n",
       "        // Pass the mpl event to the overridden (by mpl) onmessage function.\n",
       "        ws.onmessage(msg['content']['data'])\n",
       "    });\n",
       "    return ws;\n",
       "}\n",
       "\n",
       "mpl.mpl_figure_comm = function(comm, msg) {\n",
       "    // This is the function which gets called when the mpl process\n",
       "    // starts-up an IPython Comm through the \"matplotlib\" channel.\n",
       "\n",
       "    var id = msg.content.data.id;\n",
       "    // Get hold of the div created by the display call when the Comm\n",
       "    // socket was opened in Python.\n",
       "    var element = $(\"#\" + id);\n",
       "    var ws_proxy = comm_websocket_adapter(comm)\n",
       "\n",
       "    function ondownload(figure, format) {\n",
       "        window.open(figure.imageObj.src);\n",
       "    }\n",
       "\n",
       "    var fig = new mpl.figure(id, ws_proxy,\n",
       "                           ondownload,\n",
       "                           element.get(0));\n",
       "\n",
       "    // Call onopen now - mpl needs it, as it is assuming we've passed it a real\n",
       "    // web socket which is closed, not our websocket->open comm proxy.\n",
       "    ws_proxy.onopen();\n",
       "\n",
       "    fig.parent_element = element.get(0);\n",
       "    fig.cell_info = mpl.find_output_cell(\"<div id='\" + id + \"'></div>\");\n",
       "    if (!fig.cell_info) {\n",
       "        console.error(\"Failed to find cell for figure\", id, fig);\n",
       "        return;\n",
       "    }\n",
       "\n",
       "    var output_index = fig.cell_info[2]\n",
       "    var cell = fig.cell_info[0];\n",
       "\n",
       "};\n",
       "\n",
       "mpl.figure.prototype.handle_close = function(fig, msg) {\n",
       "    var width = fig.canvas.width/mpl.ratio\n",
       "    fig.root.unbind('remove')\n",
       "\n",
       "    // Update the output cell to use the data from the current canvas.\n",
       "    fig.push_to_output();\n",
       "    var dataURL = fig.canvas.toDataURL();\n",
       "    // Re-enable the keyboard manager in IPython - without this line, in FF,\n",
       "    // the notebook keyboard shortcuts fail.\n",
       "    IPython.keyboard_manager.enable()\n",
       "    $(fig.parent_element).html('<img src=\"' + dataURL + '\" width=\"' + width + '\">');\n",
       "    fig.close_ws(fig, msg);\n",
       "}\n",
       "\n",
       "mpl.figure.prototype.close_ws = function(fig, msg){\n",
       "    fig.send_message('closing', msg);\n",
       "    // fig.ws.close()\n",
       "}\n",
       "\n",
       "mpl.figure.prototype.push_to_output = function(remove_interactive) {\n",
       "    // Turn the data on the canvas into data in the output cell.\n",
       "    var width = this.canvas.width/mpl.ratio\n",
       "    var dataURL = this.canvas.toDataURL();\n",
       "    this.cell_info[1]['text/html'] = '<img src=\"' + dataURL + '\" width=\"' + width + '\">';\n",
       "}\n",
       "\n",
       "mpl.figure.prototype.updated_canvas_event = function() {\n",
       "    // Tell IPython that the notebook contents must change.\n",
       "    IPython.notebook.set_dirty(true);\n",
       "    this.send_message(\"ack\", {});\n",
       "    var fig = this;\n",
       "    // Wait a second, then push the new image to the DOM so\n",
       "    // that it is saved nicely (might be nice to debounce this).\n",
       "    setTimeout(function () { fig.push_to_output() }, 1000);\n",
       "}\n",
       "\n",
       "mpl.figure.prototype._init_toolbar = function() {\n",
       "    var fig = this;\n",
       "\n",
       "    var nav_element = $('<div/>')\n",
       "    nav_element.attr('style', 'width: 100%');\n",
       "    this.root.append(nav_element);\n",
       "\n",
       "    // Define a callback function for later on.\n",
       "    function toolbar_event(event) {\n",
       "        return fig.toolbar_button_onclick(event['data']);\n",
       "    }\n",
       "    function toolbar_mouse_event(event) {\n",
       "        return fig.toolbar_button_onmouseover(event['data']);\n",
       "    }\n",
       "\n",
       "    for(var toolbar_ind in mpl.toolbar_items){\n",
       "        var name = mpl.toolbar_items[toolbar_ind][0];\n",
       "        var tooltip = mpl.toolbar_items[toolbar_ind][1];\n",
       "        var image = mpl.toolbar_items[toolbar_ind][2];\n",
       "        var method_name = mpl.toolbar_items[toolbar_ind][3];\n",
       "\n",
       "        if (!name) { continue; };\n",
       "\n",
       "        var button = $('<button class=\"btn btn-default\" href=\"#\" title=\"' + name + '\"><i class=\"fa ' + image + ' fa-lg\"></i></button>');\n",
       "        button.click(method_name, toolbar_event);\n",
       "        button.mouseover(tooltip, toolbar_mouse_event);\n",
       "        nav_element.append(button);\n",
       "    }\n",
       "\n",
       "    // Add the status bar.\n",
       "    var status_bar = $('<span class=\"mpl-message\" style=\"text-align:right; float: right;\"/>');\n",
       "    nav_element.append(status_bar);\n",
       "    this.message = status_bar[0];\n",
       "\n",
       "    // Add the close button to the window.\n",
       "    var buttongrp = $('<div class=\"btn-group inline pull-right\"></div>');\n",
       "    var button = $('<button class=\"btn btn-mini btn-primary\" href=\"#\" title=\"Stop Interaction\"><i class=\"fa fa-power-off icon-remove icon-large\"></i></button>');\n",
       "    button.click(function (evt) { fig.handle_close(fig, {}); } );\n",
       "    button.mouseover('Stop Interaction', toolbar_mouse_event);\n",
       "    buttongrp.append(button);\n",
       "    var titlebar = this.root.find($('.ui-dialog-titlebar'));\n",
       "    titlebar.prepend(buttongrp);\n",
       "}\n",
       "\n",
       "mpl.figure.prototype._root_extra_style = function(el){\n",
       "    var fig = this\n",
       "    el.on(\"remove\", function(){\n",
       "\tfig.close_ws(fig, {});\n",
       "    });\n",
       "}\n",
       "\n",
       "mpl.figure.prototype._canvas_extra_style = function(el){\n",
       "    // this is important to make the div 'focusable\n",
       "    el.attr('tabindex', 0)\n",
       "    // reach out to IPython and tell the keyboard manager to turn it's self\n",
       "    // off when our div gets focus\n",
       "\n",
       "    // location in version 3\n",
       "    if (IPython.notebook.keyboard_manager) {\n",
       "        IPython.notebook.keyboard_manager.register_events(el);\n",
       "    }\n",
       "    else {\n",
       "        // location in version 2\n",
       "        IPython.keyboard_manager.register_events(el);\n",
       "    }\n",
       "\n",
       "}\n",
       "\n",
       "mpl.figure.prototype._key_event_extra = function(event, name) {\n",
       "    var manager = IPython.notebook.keyboard_manager;\n",
       "    if (!manager)\n",
       "        manager = IPython.keyboard_manager;\n",
       "\n",
       "    // Check for shift+enter\n",
       "    if (event.shiftKey && event.which == 13) {\n",
       "        this.canvas_div.blur();\n",
       "        event.shiftKey = false;\n",
       "        // Send a \"J\" for go to next cell\n",
       "        event.which = 74;\n",
       "        event.keyCode = 74;\n",
       "        manager.command_mode();\n",
       "        manager.handle_keydown(event);\n",
       "    }\n",
       "}\n",
       "\n",
       "mpl.figure.prototype.handle_save = function(fig, msg) {\n",
       "    fig.ondownload(fig, null);\n",
       "}\n",
       "\n",
       "\n",
       "mpl.find_output_cell = function(html_output) {\n",
       "    // Return the cell and output element which can be found *uniquely* in the notebook.\n",
       "    // Note - this is a bit hacky, but it is done because the \"notebook_saving.Notebook\"\n",
       "    // IPython event is triggered only after the cells have been serialised, which for\n",
       "    // our purposes (turning an active figure into a static one), is too late.\n",
       "    var cells = IPython.notebook.get_cells();\n",
       "    var ncells = cells.length;\n",
       "    for (var i=0; i<ncells; i++) {\n",
       "        var cell = cells[i];\n",
       "        if (cell.cell_type === 'code'){\n",
       "            for (var j=0; j<cell.output_area.outputs.length; j++) {\n",
       "                var data = cell.output_area.outputs[j];\n",
       "                if (data.data) {\n",
       "                    // IPython >= 3 moved mimebundle to data attribute of output\n",
       "                    data = data.data;\n",
       "                }\n",
       "                if (data['text/html'] == html_output) {\n",
       "                    return [cell, data, j];\n",
       "                }\n",
       "            }\n",
       "        }\n",
       "    }\n",
       "}\n",
       "\n",
       "// Register the function which deals with the matplotlib target/channel.\n",
       "// The kernel may be null if the page has been refreshed.\n",
       "if (IPython.notebook.kernel != null) {\n",
       "    IPython.notebook.kernel.comm_manager.register_target('matplotlib', mpl.mpl_figure_comm);\n",
       "}\n"
      ],
      "text/plain": [
       "<IPython.core.display.Javascript object>"
      ]
     },
     "metadata": {},
     "output_type": "display_data"
    },
    {
     "data": {
      "text/html": [
       "<img src=\"data:image/png;base64,iVBORw0KGgoAAAANSUhEUgAAA+gAAAJYCAYAAADxHswlAAAAAXNSR0IArs4c6QAAQABJREFUeAHs3Qm4FcWZMOCPHcEN3PcNUXCLIiqiAUyiSRj3xCXBBTXGNahEjfyZaEz8HTUYMdHELRqTf0aNZnDBjEYjKuCGElfcEsUlRFFQFBDZfqtnzpkD3p17OX1vv/U8x1PdXV1d/dYJM9+t7qp2Sz5LIREgQIAAAQIECBAgQIAAAQJVFWhf1au7OAECBAgQIECAAAECBAgQIJAJCND9EAgQIECAAAECBAgQIECAQA4EBOg56ARNIECAAAECBAgQIECAAAECAnS/AQIECBAgQIAAAQIECBAgkAMBAXoOOkETCBAgQIAAAQIECBAgQICAAN1vgAABAgQIECBAgAABAgQI5EBAgJ6DTtAEAgQIECBAgAABAgQIECAgQPcbIECAAAECBAgQIECAAAECORAQoOegEzSBAAECBAgQIECAAAECBAgI0P0GCBAgQIAAAQIECBAgQIBADgQE6DnoBE0gQIAAAQIECBAgQIAAAQICdL8BAgQIECBAgAABAgQIECCQAwEBeg46QRMIECBAgAABAgQIECBAgIAA3W+AAAECBAgQIECAAAECBAjkQECAnoNO0AQCBAgQIECAAAECBAgQICBA9xsgQIAAAQIECBAgQIAAAQI5EBCg56ATNIEAAQIECBAgQIAAAQIECAjQ/QYIECBAgAABAgQIECBAgEAOBAToOegETSBAgAABAgQIECBAgAABAgJ0vwECBAgQIECAAAECBAgQIJADAQF6DjpBEwgQIECAAAECBAgQIECAgADdb4AAAQIECBAgQIAAAQIECORAQICeg07QBAIECBAgQIAAAQIECBAgIED3GyBAgAABAgQIECBAgAABAjkQEKDnoBM0gQABAgQIECBAgAABAgQICND9BggQIECAAAECBAgQIECAQA4EBOg56ARNIECAAAECBAgQIECAAAECAnS/AQIECBAgQIAAAQIECBAgkAMBAXoOOkETCBAgQIAAAQIECBAgQICAAN1vgAABAgQI5FTgtddei1tuuSXOOuusGDJkSKy66qrRrl278mdFNfv++++PI488Mnr37h3du3ePnj17xvbbbx9nnnlmvPjiiw1uxqeffhr33XdfnHPOOfGVr3wlNtpoo1hppZWyz4Ybbhhf+9rXYvTo0TFz5swG13neeeeVPSpt6sr/9Kc/bXD9ChIgQIAAgRUp0HFFXsy1CBAgQIAAgfoFpk+fHtttt128//779RduwRKzZ8+O448/Pm6++ealrjJ37tyYNWtWPPvsszFmzJj48Y9/nAXdSxVaZiP9keGaa66JDz74YJkj/7359ttvR/r813/9V5x77rlxySWXxIknnlhjWTsJECBAgEBbFRCgt9WedV8ECBAg0GoF5s+fX/XgfMGCBXHggQfGX/7yl7LjtttuGzvttFN88skn8fDDD0f6Q0IqN2rUqOz7Rz/6Ubnsspk77rhjqeA8jcTvuuuuscEGG0Tnzp3jlVdeiUceeSSrZ86cOXHSSSfFG2+8ERdeeOGyVdW63b9//9hll11qPV46kMpJBAgQIEAgjwIC9Dz2ijYRIECAAIHPBFZeeeUsIE5BZwoqU2B81FFHrRCbn/zkJ+XgvGvXrnH99dfHYYcdVr52elz9hz/8YTbSnXamR80HDRqUfcqFlsl07NgxDj744Dj22GOzR/bTdmVKAfkxxxwT6ZH6lP7t3/4tvvjFL2aPvleWqy3/9a9/PWtHbcftJ0CAAAECeRdY+v8y5r212keAAAECBAogsM4668Rzzz0Xffr0ifbt/3e6mPHjx6+Qu3/33Xfj0ksvLV/rsssuWyo4TwfSqPfFF1+cjXKnR+CXLFmSPeY+adKk8nmVmRTcp/fYN99888rdS+U33njjGDduXOy5557xxBNPZMfOP//8BgfoS1VmgwABAgQItEKB//2/+q2w8ZpMgAABAgTaokCaOG2bbbZZKjhfkff529/+NtJj5imlieHSe+i1pRSkl/6IkB5RnzJlSo1F0wh7XcF56aQuXbpk77SXth977LGqP+5faotvAgQIECDQ0gIC9JYWVj8BAgQI5FogTYT2i1/8Ivbdd9/YdNNNs8fKU5C4/vrrx5e+9KUsWHz++edzfQ/N3bixY8eWqzz66KOzWdLLO5bJpFHvvfbaq7z3P//zP8v5pmYGDhxYPjWNzE+bNq28LUOAAAECBNqygAC9LfeueyNAgACBOgV+/etfZ0H59773vbjrrruyQDCNHKf3q9MEaGmCtDTymyZHS7OLFyGl99wfffTR8q0OHjy4nK8tk5aAK6XKSeVK+xr7nZZIq0yLFi2q3JQnQIAAAQJtVsA76G22a90YAQIECNQlkILyNHJeSh06dMgmYttyyy0jTYo2Y8aM+Otf/xqvv/56ViQFrjWlFMA++OCD2aE0SdqKek+8prY0x76XXnopFi9enFWVAuUdd9yx3mrTzO6lNHXq1FK2yd9p+bbKlNZLb0h655134ve//328/PLL8fHHH8fqq68eaX31PfbYI3tUvyF1KEOAAAECBKopIECvpr5rEyBAgEBVBNLIeWVwfsghh8TPfvazqCkQTJO1pfW7u3XrVpW2ruiLpgC9lNZee+3sjxWl7dq+02PupTRz5szsjxtrrbVWaVejv2+44YbyOeld/HXXXbe8XVcm9Wv61JTSHxH+9V//NQ444ICaDttHgAABAgRyIeAR91x0g0YQIECAwIoSmDVrVpx11lnly51wwgmRZiGvKThPhdLj7WPGjIm99967fE5bzrz//vvl20uzyTckLRtApyC9qSk9tfCb3/ymfPrJJ59czi9P5qmnnsrWdf/Od74THplfHknnEiBAgEBLCgjQW1JX3QQIECCQO4Grr746Pvroo6xdm2yySaQlxKT/FUiPhpdSmk2+IWnZcpV1NOT8Upn0/v8RRxxRDqD79u0bxx13XOlwrd9bb711tiZ7Wj89zR2Q5hBIfZwelb/kkkuyx9xLJ1977bUxYsSI0qZvAgQIECCQKwGPuOeqOzSGAAECBFpaoHKytzSammZsX57U2t85X/beK9+1T2udNyQtazhv3ryGnLZUmTRb+/Dhw7P139OBVOd//Md/RKdOnZYqt+zGqaeemk3kt+z+dF56+iF90jJxaR32P/3pT1mxK664IttO76ZLBAgQIEAgTwJG0PPUG9pCgAABAi0ukNbVLqXK2cdL+4r+nSbIK6U0Et2QNH/+/KWKLTuivtTBWjZ+8IMfxB/+8Ify0fQu+fbbb1/eri2zxhpr1HaovH/VVVeNW2+9NdIEgKV00UUXlbK+CRAgQIBAbgQE6LnpCg0hQIAAgZYWSGueV47ubr755i19yVZX/8orr1xuc6VVeWcNmWXLVdZRQ/HP7br44osjfUopBc9p/fXmTGmSv7PPPrtcZVoOrqF/gCifJEOAAAECBFpYQIDewsCqJ0CAAIH8CJTePS+1qLGBZOm8tvxdOSKdli1rSPrnP/+5VLGePXsutV3XxlVXXbVU4JxG0isn8avr3MYe+/KXv1w+Ze7cudm69+UdMgQIECBAIAcCAvQcdIImECBAgMCKEVhllVWWulBTJzNbqpI2trHVVluV7+jdd9+NynfSyweWybzxxhvlPSk4b+gSa2nN8hNPPLF8bspfeOGF5e3mzqy33npLVfnee+8ttW2DAAECBAhUW0CAXu0ecH0CBAgQWGEC6V3kyvejX3vttRV27dZyoRSgt2//3//vQZq4LS17Vl9KS5iVUp8+fUrZOr9vu+227DH2dI2U0uztafK2lkxplvjK1L1798pNeQIECBAgUHUBAXrVu0ADCBAgQGBFCuy6667ly6X3kKWlBdIkcbvttlt5Z0NmqX/wwQfL5ffaa69yvrbMuHHj4vDDDy8vp3bQQQfF9ddfH+3atavtlGbZP2XKlKXqWX/99ZfatkGAAAECBKotIECvdg+4PgECBAisUIGvfe1r5etdc801sewM5OWDBc4ccMAB5bu/4YYbyvmaMm+++Wak9cdLqfLc0r7K7/RHkW984xuxYMGCbHfqj7ScWocOHSqLtUj+N7/5TbnebbbZJtZcc83ytgwBAgQIEMiDgAA9D72gDQQIECCwwgTS2uelyeGmTZsWp5122gq7dmu50FFHHRWlx79feumluPbaa2ttepoZfdGiRdnxAQMGxE477VRr2UmTJsV+++1Xfq990KBBkR51b+h668tW3Jg5BNIya//+7/9ermLYsGHlvAwBAgQIEMiLgAA9Lz2hHQQIECCwQgR69OgRlWtgp/W2Dz300HjrrbdqvP7zzz8fI0aMiHvvvbfG44MHD84ezU6PZ6d8ntOmm25abmtdy5itvfbaccYZZ5Rv5Xvf+17ccsst5e2USSPgacb1NPpdSnVN8JYeL//6178epffA06sGd91111JzApTqaej36NGj4ytf+UoW5C+71Fupjg8//DDOPffcOOyww6L0vvtmm22W9WmpjG8CBAgQIJAXgY55aYh2ECBAgACBFSVw0kknxXPPPRe/+tWvskum4DON5Pbv3z969+4d6T3sGTNmRAoqX3/99azMkCFDVlTzsuv86Ec/ijvuuGOpay47YvyFL3xhqeNp4/zzz89GqT93oJE7/vVf/zUmTpwY6ZH0FPymP2L89Kc/zUbI08zuDz30UEyfPr1c649//ONII+K1pX322SdSsFxKW2yxRRbgl7br+k6Bffosm1LAfd9992WfLl26RHpsvVevXrH66qtna5ynvnvsscey9pfOTY+133333cv1h4FSXb4JECBAgEBzCwjQm1tUfQQIECDQKgSuvPLKSDOWp0B49uzZ2WPajz76aKTPsimNjnfr1m3Z3S26nZYue/rpp+u8Rk3HZ86cWec5DT3YqVOn+OMf/xjHH398efT82WefjfSpTKnceeedF6NGjarc/bl8+oNHZap83Lxyf035FFTXFKBXlk1zCaTZ5CtnlK88nvJf/epXs8f1N9hgg2UP2SZAgAABArkQEKDnohs0ggABAgSqIZAeXU/vIqeJ0O6555544YUXorQ2dgoK05JhaVQ4jR5vueWW1WhiVa+52mqrxc033xzpvf3f/va38cgjj2Sj5iko32ijjSKNih977LGZUzUaeuaZZ2b9k95tT39YSXMKvP/++9kn/VEljaSnftt9992zWeN32GGHajTTNQkQIECAQIMF2n32eNh/L0Da4FMUJECAAAECBAgQIECAAAECBJpbwCRxzS2qPgIECBAgQIAAAQIECBAg0AQBAXoT0JxCgAABAgQIECBAgAABAgSaW0CA3tyi6iNAgAABAgQIECBAgAABAk0QEKA3Ac0pBAgQIECAAAECBAgQIECguQUE6M0tqj4CBAgQIECAAAECBAgQINAEAQF6E9CcQoAAAQIECBAgQIAAAQIEmltAgN7couojQIAAAQIECBAgQIAAAQJNEBCgNwHNKQQIECBAgAABAgQIECBAoLkFBOjNLao+AgQIECBAgAABAgQIECDQBAEBehPQnEKAAAECBAgQIECAAAECBJpbQIDe3KLqI0CAAAECBAgQIECAAAECTRAQoDcBzSkECBAgQIAAAQIECBAgQKC5BQTozS2qPgIECBAgQIAAAQIECBAg0AQBAXoT0JxCgAABAgQIECBAgAABAgSaW6Bjc1eovvwKfPLJJ/Hss89mDVxrrbWiY0fdn9/e0jICBAgQIECAAAECLSewcOHCmDFjRnaB7bbbLrp27dpyF1NzgwVEaA2mav0FU3C+yy67tP4bcQcECBAgQIAAAQIECDSbwOOPPx79+/dvtvpU1HQBj7g33c6ZBAgQIECAAAECBAgQIECg2QSMoDcbZf4rSo+1l1L6K9l6661X2vRNgAABAgQIECBAgECBBKZPn15+urYyTigQQS5vVYCey25pmUZVvnOegvMNN9ywZS6kVgIECBAgQIAAAQIEWo1AZZzQahrdRhvqEfc22rFuiwABAgQIECBAgAABAgRal4AAvXX1l9YSIECAAAECBAgQIECAQBsVEKC30Y51WwQIECBAgAABAgQIECDQugQE6K2rv7SWAAECBAgQIECAAAECBNqogAC9jXas2yJAgAABAgQIECBAgACB1iUgQG9d/aW1BAgQIECAAAECBAgQINBGBQTobbRj3RYBAgQIECBAgAABAgQItC4BAXrr6i+tJUCAAAECBAgQIECAAIE2KiBAb6Md67YIECBAgAABAgQIECBAoHUJCNAr+mvatGkxcuTI2HrrraN79+7Rs2fP6N+/f1xyySUxd+7cipLLn73vvvvi6KOPjl69emXXWm211aJ3797xjW98I371q1/Fxx9/vPwXUQMBAgQIECBAgAABAgQItBqBdks+S62mtS3Y0DvvvDOGDRsWs2fPrvEqKXgeN25cFlDXWKCBO2fNmhXDhw+P22+/vc4zpkyZEl/4whfqLNPYg2+99VZstNFG2WlvvvlmbLjhho2tQnkCBAgQIECAAAECBNqAgNggn53YMZ/NWrGtSsHwoYceGvPmzYuVV145zjnnnBgyZEi2fdNNN8U111wTL7/8cgwdOjQmT54cq6yySpMa+OGHH8ZXvvKVePLJJ7PzDzzwwGzEfIsttogOHTpECpoffPDBuO2225pUv5MIECBAgAABAgQIECBAoPUKGEH/rO+++MUvxsMPPxwdO3aMhx56KAYMGLBUj6ZH3M8666xs37nnnhvnnXfeUscbunHkkUfG7373u+jSpUvccsstsd9++9V4anqoYdGiRVl7aizQxJ3+StZEOKcRIECAAAECBAgQaGMCYoN8dmjh30F//PHHs+A8dc+xxx77ueA87U/vpffp0ydlY8yYMbFgwYIs35j/TJgwIQvO0zk//elPaw3O0/F27do1e3Ce6pUIECBAgAABAgQIECBAIL8ChQ/Qx44dW+6d9G54Tal9+/aRRr9T+uCDD+KBBx6oqVid+375y19mx9NkcKecckqdZR0kQIAAAQIECBAgQIAAgeIJFD5ATyPbKaVZ2/v161frL2DQoEHlYxMnTiznG5L59NNPy5PCpXfQu3btmp2WHmNP752//vrr8cknnzSkKmUIECBAgAABAgQIECBAoI0KFD5Anzp1ata1abmz9A56bSktvVZKpXNK2/V9P/300+UAfLvttstmij/ttNNizTXXjI033jg222yzSCPrKXgfP358fdU5ToAAAQIECBAgQIAAAQJtUKD2iLQN3uyyt5RGrd97771sd31LjvXo0SMbZZ8zZ0426r1sXXVtv/DCC+XDixcvjp133jleeeWV8r6USaPsaW30+++/Py688MI4++yzlzrekI000UNdafr06XUddowAAQIECBAgQIAAAQIEqihQ6AD9o48+KtOn5dXqS+kx+BSgf/zxx/UVXer4zJkzy9sXXXRRNpr+1a9+Nc4///zYfvvtsxH1tLTaD37wg0hLsaXvNGK///77l89rSKa0xnlDyirTcIGrr7660X3e8NqLWTL97+34448v5s27awIECBAgQIAAAQK1CBQ6QK9877tz5861EP3v7rQ8WkppvfTGpBTUl1K6ZnqU/a677srWPk/711prrTjhhBNi2223jfSuexplT2uxp2XY0ozuUnUF0h9k3nzn/Zg9r/Gz91e35fm8+qordYqN8tk0rSJAgAABAgQIECBQVYFCB+ilydpSD6RHzOtL8+fPz4qstNJK9RVd6njlddKBNIreoUOHpcqkjT322CMOOuiguPXWWyO95/7ss89mI+yfK1jLjjThXF0pPeK+yy671FXEsVoEUnD+9gefRJeVutdSwu6GCMyf979/rGpIeWUIECBAgAABAgQIFEmg0AH6KqusUu7rhjy2XhoJb8jj8OWKP8tUXieNlu+4446Vh5fK77PPPlmAnnY+8cQTjQrQ63uPfqkL2Wi0QArOB3+j5qX4Gl1ZQU8Yf+v1n935ooLevdsmQIAAAQIECBAgULdAoWdxTyPba6yxRiZU3wRrs2bNyt4/T4Ub+653Zfn6gujKsjNmzKi79xwlQIAAAQIECBAgQIAAgTYjUOgAPfVi3759s8589dVXY+HChbV27Isvvlg+1qdPn3K+IZltttmmXCytfV5Xqjxe17JvddXhGAECBAgQIECAAAECBAi0PoHCB+jpve+U0uPrTz75ZK09+OCDD5aPDRw4sJxvSGaTTTbJ1jtPZV9//fVYsmRJraf97W9/Kx/bYIMNynkZAgQIECBAgAABAgQIEGjbAoUP0A844IByD19/fXo/9vMpzap+4403ZgdWX331GDJkyOcL1bPn4IMPzkrMnj07W+u8tuJ//OMfy4dKfzwo75AhQIAAAQIECBAgQIAAgTYrUPgAPc1qvueee2YdfN1118Ujjzzyuc4ePXp0Nqt6OjBixIjo1KnTUmXGjx+fLYeWlkQ7+uijlzpW2jjttNOiNJv7GWecka19XjpW+v79738fqa6Uhg4d2uh33bMT/YcAAQIECBAgQIAAAQIEWqVA4QP01GtjxoyJtHRaegd97733jgsvvDAeffTReOCBB+K73/1unHXWWVnn9u7dO0aOHNmkjt54443j/PPPz85Ny6elPwykEfv0WH26zqmnnloO7lddddX4+c9/3qTrOIkAAQIECBAgQIAAAQIEWqdAoZdZK3VZWvbs5ptvjmHDhmUj26NGjSodKn+n4HzcuHFLLZlWPtjAzJlnnhkzZ87M1kF/6aWX4phjjvncmWuvvXaMHTs2ttxyy88ds4MAAQIECBAgQIAAAQIE2q6AEfT/6dt99903nnnmmTj99NMjBePdunWL9L75zjvvnAXUU6ZMiV69ei33LyGNzk+cODGOOOKI2HTTTaNLly6x2mqrRf/+/eMnP/lJvPzyyzFgwIDlvo4KCBAgQIAAAQIECBAgQKB1CRhBr+ivNNv6pZdemn0qdtebHTx4cJ0zsy9bQQrABeHLqtgmQIAAAQIECBAgQIBAsQWMoBe7/909AQIECBAgQIAAAQIECOREQICek47QDAIECBAgQIAAAQIECBAotoAAvdj97+4JECBAgAABAgQIECBAICcCAvScdIRmECBAgAABAgQIECBAgECxBQToxe5/d0+AAAECBAgQIECAAAECOREQoOekIzSDAAECBAgQIECAAAECBIotIEAvdv+7ewIECBAgQIAAAQIECBDIiYAAPScdoRkECBAgQIAAAQIECBAgUGwBAXqx+9/dEyBAgAABAgQIECBAgEBOBAToOekIzSBAgAABAgQIECBAgACBYgsI0Ivd/+6eAAECBAgQIECAAAECBHIiIEDPSUdoBgECBAgQIECAAAECBAgUW0CAXuz+d/cECBAgQIAAAQIECBAgkBMBAXpOOkIzCBAgQIAAAQIECBAgQKDYAgL0Yve/uydAgAABAgQIECBAgACBnAgI0HPSEZpBgAABAgQIECBAgAABAsUWEKAXu//dPQECBAgQIECAAAECBAjkRECAnpOO0AwCBAgQIECAAAECBAgQKLaAAL3Y/e/uCRAgQIAAAQIECBAgQCAnAgL0nHSEZhAgQIAAAQIECBAgQIBAsQUE6MXuf3dPgAABAgQIECBAgAABAjkREKDnpCM0gwABAgQIECBAgAABAgSKLSBAL3b/u3sCBAgQIECAAAECBAgQyImAAD0nHaEZBAgQIECAAAECBAgQIFBsAQF6sfvf3RMgQIAAAQIECBAgQIBATgQE6DnpCM0gQIAAAQIECBAgQIAAgWILCNCL3f/ungABAgQIECBAgAABAgRyIiBAz0lHaAYBAgQIECBAgAABAgQIFFtAgF7s/nf3BAgQIECAAAECBAgQIJATAQF6TjpCMwgQIECAAAECBAgQIECg2AIC9GL3v7snQIAAAQIECBAgQIAAgZwICNBz0hGaQYAAAQIECBAgQIAAAQLFFhCgF7v/3T0BAgQIECBAgAABAgQI5ERAgJ6TjtAMAgQIECBAgAABAgQIECi2gAC92P3v7gkQIECAAAECBAgQIEAgJwIC9Jx0hGYQIECAAAECBAgQIECAQLEFBOjF7n93T4AAAQIECBAgQIAAAQI5ERCg56QjNIMAAQIECBAgQIAAAQIEii0gQC92/7t7AgQIECBAgAABAgQIEMiJgAA9Jx2hGQQIECBAgAABAgQIECBQbAEBerH7390TIECAAAECBAgQIECAQE4EBOg56QjNIECAAAECBAgQIECAAIFiCwjQi93/7p4AAQIECBAgQIAAAQIEciIgQM9JR2gGAQIECBAgQIAAAQIECBRbQIBe7P539wQIECBAgAABAgQIECCQEwEBek46QjMIECBAgAABAgQIECBAoNgCAvRi97+7J0CAAAECBAgQIECAAIGcCAjQc9IRmkGAAAECBAgQIECAAAECxRYQoBe7/909AQIECBAgQIAAAQIECOREQICek47QDAIECBAgQIAAAQIECBAotoAAvdj97+4JECBAgAABAgQIECBAICcCAvSKjpg2bVqMHDkytt566+jevXv07Nkz+vfvH5dccknMnTu3omTjszfccEO0a9euQZ9UViJAgAABAgQIECBAgACBYgl0LNbt1n63d955ZwwbNixmz55dLpSC8smTJ2efa6+9NsaNGxe9evUqH5chQIAAAQIECBAgQIAAAQLNJSBA/0xyypQpceihh8a8efNi5ZVXjnPOOSeGDBmSbd90001xzTXXxMsvvxxDhw7NgvVVVlllufzvueeeWH/99WutY8MNN6z1mAMECBAgQIAAAQIECBAg0DYFBOif9euIESOyYLxjx45x7733xoABA8q9vddee8WWW24ZZ511Vhakjx49Os4777zy8aZkevfuHZtuumlTTnUOAQIECBAgQIAAAQIECLRRgcK/g/7444/Hww8/nHXvscceu1RwXurz9F56nz59ss0xY8bEggULSod8EyBAgAABAgQIECBAgACBZhEofIA+duzYMuTw4cPL+cpM+/bt48gjj8x2ffDBB/HAAw9UHpYnQIAAAQIECBAgQIAAAQLLLVD4AH3ChAkZYpq1vV+/frWCDho0qHxs4sSJ5bwMAQIECBAgQIAAAQIECBBoDoHCB+hTp07NHNPs7Okd9NpSWnqtlErnlLYb+51G6tMkcZ07d44111wzdtttt/jhD38Yb7/9dmOrUp4AAQIECBAgQIAAAQIE2ohA7RFpG7nBum7jk08+iffeey8rUt/M6T169MjWRp8zZ068+eabdVVb77Hx48eXy7z//vuRPo899likCeguu+yy+O53v1s+3pjMW2+9VWfx6dOn13ncQQIECBAgQIAAAQIECBConkChA/SPPvqoLJ+WV6svpcfgU4D+8ccf11e0xuObb755HHTQQdlEdBtttFFW5u9//3vcdtttceutt0b6g8EJJ5wQ7dq1i+OPP77GOuraWaqzrjKOESBAgAABAgQIECBAgEA+BQodoKeAuJTS4+b1pS5dumRF0nrpjU0HHnhgHHXUUVnwXXlu//79szXY77rrrix4TzPEn3766bHffvvFuuuuW1lUngABAgQIECBAgAABAgTasECh30Hv2rVruWs//fTTcr62zPz587NDK620Um1Fat2/2mqrfS44ryz8L//yL/GjH/0o2zV37ty47rrrKg83KJ8eva/rk5aUkwgQIECAAAECBAgQIEAgnwKFDtBXWWWVcq805LH19Hh7Sg15HL5ccSMy6bH29Hh7Sg8++GAjzvzvouk9+ro+6623XqPrdAIBAgQIECBAgAABAgQIrBiBQgfoaQR9jTXWyKTrm2Bt1qxZ2fvnqXBLveu99tprl9tjRvcV8z8AVyFAgAABAgQIECBAgEBeBAodoKdO6Nu3b9YXr776aixcuLDWfnnxxRfLx/r06VPON3emNILe3PWqjwABAgQIECBAgAABAgTyLVD4AH2PPfbIeig9vv7kk0/W2luVj5wPHDiw1nLLc2DGjBnlZd/SOukSAQIECBAgQIAAAQIECBRHoPAB+gEHHFDu7euvv76cr8wsXrw4brzxxmzX6quvHkOGDKk83Gz5q6++OpYsWZLVN2jQoGarV0UECBAgQIAAAQIECBAgkH+Bwgfou+yyS+y5555ZT6WZ0x955JHP9dro0aNj6tSp2f4RI0ZEp06dliozfvz4bHK39Hj60UcfvdSxtPH666/HlClTPre/ckdaZu3888/PdqVZ4ocPH155WJ4AAQIECBAgQIAAAQIE2rhAoddBL/XtmDFjIj22ntY333vvvWPUqFHZKHnavummmyKNbKfUu3fvGDlyZOm0Bn+nAD2Nug8YMCD23Xff2GGHHSJNCJfS3//+97j11luzT2n0/Gc/+1lssMEGDa5fQQIECBAgQIAAAQIECBBo/QIC9M/6cMcdd4ybb745hg0bFrNnz84C9GW7NgXn48aNi8ql2ZYtU992Gp2vaYS+dF63bt3i5z//eaTl1iQCBAgQIECAAAECBAgQKJaAAP1/+juNbD/zzDORRtNTIJ6WXevcuXP06tUrvvnNb8Ypp5wSKYBuSurXr1/8/ve/z4LzyZMnx/Tp07PJ4NKs8T169IhtttkmvvSlL8Vxxx1XHllvynWcQ4AAAQIECBAgQIAAAQKtV0CAXtF3m2yySVx66aXZp2J3vdnBgweXJ3erqXAadf/2t7+dfWo6bh8BAgQIECBAgAABAgQIECj8JHF+AgQIECBAgAABAgQIECBAIA8CAvQ89II2ECBAgAABAgQIECBAgEDhBQTohf8JACBAgAABAgQIECBAgACBPAgI0PPQC9pAgAABAgQIECBAgAABAoUXEKAX/icAgAABAgQIECBAgAABAgTyICBAz0MvaAMBAgQIECBAgAABAgQIFF5AgF74nwAAAgQIECBAgAABAgQIEMiDgAA9D72gDQQIECBAgAABAgQIECBQeAEBeuF/AgAIECBAgAABAgQIECBAIA8CAvQ89II2ECBAgAABAgQIECBAgEDhBQTohf8JACBAgAABAgQIECBAgACBPAgI0PPQC9pAgAABAgQIECBAgAABAoUXEKAX/icAgAABAgQIECBAgAABAgTyICBAz0MvaAMBAgQIECBAgAABAgQIFF5AgF74nwAAAgQIECBAgAABAgQIEMiDgAA9D72gDQQIECBAgAABAgQIECBQeAEBeuF/AgAIECBAgAABAgQIECBAIA8CAvQ89II2ECBAgAABAgQIECBAgEDhBQTohf8JACBAgAABAgQIECBAgACBPAgI0PPQC9pAgAABAgQIECBAgAABAoUXEKAX/icAgAABAgQIECBAgAABAgTyICBAz0MvaAMBAgQIECBAgAABAgQIFF5AgF74nwAAAgQIECBAgAABAgQIEMiDgAA9D72gDQQIECBAgAABAgQIECBQeAEBeuF/AgAIECBAgAABAgQIECBAIA8CAvQ89II2ECBAgAABAgQIECBAgEDhBQTohf8JACBAgAABAgQIECBAgACBPAgI0PPQC9pAgAABAgQIECBAgAABAoUXEKAX/icAgAABAgQIECBAgAABAgTyICBAz0MvaAMBAgQIECBAgAABAgQIFF5AgF74nwAAAgQIECBAgAABAgQIEMiDgAA9D72gDQQIECBAgAABAgQIECBQeAEBeuF/AgAIECBAgAABAgQIECBAIA8CAvQ89II2ECBAgAABAgQIECBAgEDhBQTohf8JACBAgAABAgQIECBAgACBPAgI0PPQC9pAgAABAgQIECBAgAABAoUXEKAX/icAgAABAgQIECBAgAABAgTyICBAz0MvaAMBAgQIECBAgAABAgQIFF5AgF74nwAAAgQIECBAgAABAgQIEMiDgAA9D72gDQQIECBAgAABAgQIECBQeAEBeuF/AgAIECBAgAABAgQIECBAIA8CAvQ89II2ECBAgAABAgQIECBAgEDhBQTohf8JACBAgAABAgQIECBAgACBPAgI0PPQC9pAgAABAgQIECBAgAABAoUXEKAX/icAgAABAgQIECBAgAABAgTyICBAz0MvaAMBAgQIECBAgAABAgQIFF5AgF74nwAAAgQIECBAgAABAgQIEMiDgAA9D72gDQQIECBAgAABAgQIECBQeAEBeuF/AgAIECBAgAABAgQIECBAIA8CAvQ89II2ECBAgAABAgQIECBAgEDhBQTohf8JACBAgAABAgQIECBAgACBPAgI0PPQC9pAgAABAgQIECBAgAABAoUXEKBX/ASmTZsWI0eOjK233jq6d+8ePXv2jP79+8cll1wSc+fOrSjZfNlU7+abbx7t2rXLPptuumnzVa4mAgQIECBAgAABAgQIEGg1Ah1bTUtbuKF33nlnDBs2LGbPnl2+UgqeJ0+enH2uvfbaGDduXPTq1at8vDkyP/rRj+K1115rjqrUQYAAAQIECBAgQIAAAQKtWKBqI+jbbrtt/PznP48ZM2ZUnW/KlClx6KGHZsH5yiuvHBdccEFMmjQp7r///vjOd76Tte/ll1+OoUOHxkcffdRs7U3Xveyyy6Jr166xyiqrNFu9KiJAgAABAgQIECBAgACB1idQtQD9hRdeiO9///ux4YYbxsEHHxx33XVXLF68uCqCI0aMiHnz5kXHjh3j3nvvjVGjRsWAAQNir732iquvvjouvvjirF0pSB89enSztHHRokVZ8J++0/XS4/QSAQIECBAgQIAAAQIECBRXoGoB+o477hhLliyJBQsWxNixY2P//fePjTbaKM4555xIgfCKSo8//ng8/PDD2eWOPfbYLDBf9trpvfQ+ffpku8eMGZO1edkyjd1O9Tz55JOx1VZbxdlnn93Y05UnQIAAAQIECBAgQIAAgTYmULUAPQWnTz/9dKTR6zXWWCML1qdPn56NVqdgeI899ojrr78+5syZ06Lk6Y8DpTR8+PBSdqnv9u3bx5FHHpnt++CDD+KBBx5Y6nhjN9JkdOnd85R+/etfR+fOnRtbhfIECBAgQIAAAQIECBAg0MYEqhagJ8ftttsuew/9H//4R9x2223xL//yL9GhQ4csWH/kkUfiuOOOi/XWWy/SyPaECRNahL5Ub5q1vV+/frVeY9CgQeVjEydOLOebkjnppJOyPzwcccQRMXjw4KZU4RwCBAgQIECAAAECBAgQaGMCVQ3QS5bp3e8DDzww7rjjjnjzzTfj3/7t37JHv9Mj8B9//HHccMMNkQLk9Dj4RRddFGmkvbnS1KlTs6rS7OypHbWltPRaKZXOKW035vumm26Ku+++O3r06NFs77M35vrKEiBAgAABAgQIECBAgEA+BXIRoFfSrLPOOnHWWWdFmkSuNIqeZjhPwforr7ySTai2ySabxL777pu9u748E8t98skn8d5772WXT5PV1ZVSQJ1G2VNKf0RoSpo1a1acdtpp2anpjxBrrbVWU6qp9Zy33nor6vo05x82am2EAwQIECBAgAABAgQIECDQJIHah4ybVF3znrTrrrtG+qQJ5NJyZ++88052gYULF2aj0GkkOj0CnwL6k08+OXs8vjEtqFwyLS2vVl9KAXp6Jz6N6jclnXnmmdk9pBniS8u3NaWe2s5Jk+xJBAgQIECAAAECBAgQINA6BXI3gl5ifOONN+L888+PLbbYIvbbb78ssE2j6GnCtr333js22GCDbFQ9vb9++umnx2677RZphLoxKY2gl1JDJmrr0qVLVjwtydbY9NBDD8VvfvOb7DH6NDFcu3btGluF8gQIECBAgAABAgQIECDQhgVyNYKeAuY0WVyavX38+PFZAJ6C8pRSoH7MMcfE0UcfnY2ap/1pzfL0Tnoq+9RTT8WPf/zjuOyyyxrcXV27di2X/fTTT8v52jLz58/PDq200kq1Falxfzrv+OOPz+4nzVq//fbb11hueXfW9+h9esR9l112Wd7LOJ8AAQIECBAgQIAAAQIEWkAgFwH6o48+mgXlt9xyS8yePTu7zRSApxHrgw46KJvNfciQIUvdfhqB3meffbLPKaecEldeeWU2yVxjAvT0bnspNeSx9dKSbw15HL5Ub/q+4IIL4qWXXsrWeU9/RGipVN979C11XfUSIECAAAECBAgQIECAwPILVC1AT6O5v/vd77IZ2lPwmlJptDwtv5aWWBs2bFg223l9t5mWYUsBen0jyMvWk0bQ0xrs77//fja52rLHK7fT4/OlAL2x73qnUf6UvvzlL8edd95ZWW05X6o7faeZ3lNae+21Y6+99iqXkSFAgAABAgQIECBAgACBtitQtQB94403jjQDeykoT6PZhx12WBaY9+/fv1Hiq666ala+KTO69+3bNx5++OF49dVXI00+V9tSay+++GK5TX369CnnG5IpPT6fHt1Pn7pSmlX+8MMPz4qkpeUE6HVpOUaAAAECBAgQIECAAIG2I1C1AH3RokWZYprRPI2WH3roodGtW7cmyaal2eoLfGureI899sgC9DRy/eSTT2azxtdU9sEHHyzvHjhwYDkvQ4AAAQIECBAgQIAAAQIEmkOgarO4p5nXn3/++Zg4cWIMHz68ycF5QkjvhB911FHZp7EoBxxwQPmU2oL8NDJ/4403ZuVWX331WPZ9+HIFtWTSUwL1fdLa7iml71LZNPmdRIAAAQIECBAgQIAAAQLFEKhagD569Oho7KPiLdElaVbzPffcM6v6uuuui0ceeeRzl0ltnTp1arY/zcLeqVOnpcqkQDpNWpc+aZZ5iQABAgQIECBAgAABAgQINFagagF6erf6S1/6UkybNq3BbU5rnpfOa/BJDSg4ZsyYSEunpXfQ0xrrF154YaSZ5R944IH47ne/G2eddVZWS+/evWPkyJENqFERAgQIECBAgAABAgQIECDQOIGqvYNeGnUuzV7ekGbPmzcvSuc1pHxDy+y4445x8803Z7PGp2XeRo0a9blTU3A+bty4qFya7XOF7CBAgAABAgQIECBAgAABAk0UqNoIehPb22Kn7bvvvvHMM89Eejc+BeNpwrr0vvnOO+8caZm0KVOmRK9evVrs+iomQIAAAQIECBAgQIAAgWILVG0EvSnspdH2tH55S6Q0Qdull16afRpT/+DBg8vLxTXmvMqyr7/+euWmPAECBAgQIECAAAECBAgUTKBVjaD/6U9/yrpnww03LFg3uV0CBAgQIECAAAECBAgQaOsCK2wE/ZhjjqnR8oc//GH2KHmNB/9n5/z58+Nvf/tbPPHEE9lM6YMGDaqruGMECBAgQIAAAQIECBAgQKDVCaywAP2GG27IgutKobTe9+233165q9Z8KptSz54945xzzqm1nAMECBAgQIAAAQIECBAgQKA1CqywAH3jjTdeKkBPy6uldcPXW2+9z60rXgmZyqR3zlO53XffPU488cRYf/31K4vIEyBAgAABAgQIECBAgACBVi+wwgL0ZSdBa9/+v19/v/fee6Nv376tHtINECBAgAABAgQIECBAgACB5RFYYQH6so384he/mI2gd+/efdlDtgkQIECAAAECBAgQIECAQOEEqhagjx8/vnDYbpgAAQIECBAgQIAAAQIECNQm0KqWWavtJuwnQIAAAQIECBAgQIAAAQKtXUCA3tp7UPsJECBAgAABAgQIECBAoE0ItPgj7ptvvnkGlWZjT2uZl1Jpf2m7Md/L1tWYc5UlQIAAAQIECBAgQIAAAQJ5FGjxAL00e3sKqitTaX/lvobml62roecpR4AAAQIECBAgQIAAAQIE8irQ4gH6UUcdVeO917a/xsJ2EiBAgAABAgQIECBAgACBNi7Q4gH69ddfXyNhbftrLGwnAQIECBAgQIAAAQIECBBo4wImiWvjHez2CBAgQIAAAQIECBAgQKB1CAjQW0c/aSUBAgQIECBAgAABAgQItHEBAXob72C3R4AAAQIECBAgQIAAAQKtQ6DF30F/4403WkRi4403bpF6VUqAAAECBAgQIECAAAECBKoh0OIB+mabbdbs95WWWVu4cGGz16tCAgQIECBAgAABAgQIECBQLYEWD9CXLFlSrXtzXQIECBAgQIAAAQIECBAg0GoEWjxAt5xaq/ktaCgBAgQIECBAgAABAgQIVFGgxQP0o446qoq359IECBAgQIAAAQIECBAgQKB1CJjFvXX0k1YSIECAAAECBAgQIECAQBsXEKC38Q52ewQIECBAgAABAgQIECDQOgQE6K2jn7SSAAECBAgQIECAAAECBNq4QIu/g37jjTeWCY888shyvnJ/eWcjMpV1NeI0RQkQIECAAAECBAgQIECAQC4FWjxAP/rooyOtW54+lUF1aX9TVJatqyl1OIcAAQIECBAgQIAAAQIECORJoMUD9HSzta2FXtv+PAFpCwECBAgQIECAAAECBAgQWBECLR6gv/baazXeR237ayxsJwECBAgQIECAAAECBAgQaOMCLR6gb7LJJjUS1ra/xsJ2EiBAgAABAgQIECBAgACBNi5gFvc23sFujwABAgQIECBAgAABAgRah4AAvXX0k1YSIECAAAECBAgQIECAQBsXaPFH3Bvq99RTT8V9990Xzz77bMycOTM7rWfPnrHtttvGl7/85ejXr19Dq1KOAAECBAgQIECAAAECBAi0OoGqB+gpMD/ppJPiiSeeqBVv1KhRsfPOO8cVV1yRfdda0AECBAgQIECAAAECBAgQINBKBar6iPutt94au+++exacpyXX0qdTp06xzjrrZJ+UL+1PAfzAgQPjD3/4Qyul1mwCBAgQIECAAAECBAgQIFC7QNUC9JdeeimOOOKI+PTTT6NDhw5x4oknZoH6nDlz4h//+Ef2SfnJkydnxzp27BgLFiyII488Ml588cXa78gRAgQIECBAgAABAgQIECDQCgWqFqBfdNFFMX/+/OjatWvce++92ePr6T3zFKyXUsrvtNNO2bE///nPWdkU0F988cWlIr4JECBAgAABAgQIECBAgECbEKhagJ4mhGvXrl2cdtppMXjw4HoxBw0alJVNj7yncyUCBAgQIECAAAECBAgQINCWBKoWoM+YMSNz/PrXv95gz6FDh2ZlS+c2+EQFCRAgQIAAAQIECBAgQIBAzgWqFqCvtdZaGU16xL2hqUuXLlnRNddcs6GnKEeAAAECBAgQIECAAAECBFqFQNUC9DQje0p1La+2rODjjz+e7dpjjz2WPWSbAAECBAgQIECAAAECBAi0aoGqBehnnHFGNiHc//2//zca8sj6u+++GxdeeGG2DNvpp5/eqtE1ngABAgQIECBAgAABAgQILCtQtQC9f//+cdVVV0UKvHfdddcYO3ZsLF68eNn2Zftuv/32GDBgQBbI/+pXv4pddtnlc+XsIECAAAECBAgQIECAAAECrVmgY0s3/phjjqnzEn379o2nn346Dj744OjRo0fsuOOOsfbaa2czvL/zzjvx17/+NWbOnJnVscMOO8SECRNi4sSJcd1119VZr4MECBAgQIAAAQIECBAgQKA1CbR4gH7DDTdkwXZdKGm5tbR8WgrE//KXvyxVNO1PKZVJgXz6pCRAzxj8hwABAgQIECBAgAABAgTaiECLB+gbb7xxvQF6G7F0GwQIECBAgAABAgQIECBAoMkCLR6gv/76601unBMJECBAgAABAgQIECBAgEBRBKo2SVxRgN0nAQIECBAgQIAAAQIECBBoiIAAvSFKyhAgQIAAAQIECBAgQIAAgRYWEKC3MLDqCRAgQIAAAQIECBAgQIBAQwRa/B30hjSiVGbRokUxa9asmDdvXjare2l/Td9p8jmJAAECBAgQIECAAAECBAi0FYGqB+jvvfde/OIXv4ixY8fGCy+8EIsXL67XNi25tnDhwnrLKUCAAAECBAgQIECAAAECBFqLQFUD9EmTJsVBBx0UM2bMqHfEfEWATps2LS6//PIYN25cvPnmm9GlS5fYYost4pBDDomTTz45unXr1uRmTJ06Ne6///544okn4tlnn41333030h8nOnToEOuss070798/vvWtb8V+++1nWbomKzuRAAECBAgQIECAAAECrVegagH6+++/H/vvv3+k75VXXjmOO+64WH311eO8887LAtRrr702Zs6cGZMnT4477rgjPvnkkxg4cGAce+yxLaJ95513xrBhw2L27Nnl+ufOnZtdP7UhtScF7r169Sofb0zmggsuiP/3//5fjae89tprkT633HJLDBo0KG677bZYY401aixrJwECBAgQIECAAAECBAi0TYGqBei//OUvs+A8jVI/8sgjsc0228Tzzz+fBeiJevjw4WXx6dOnZ6PLDz30UAwYMCAuuuii8rHmyEyZMiUOPfTQ7N339MeCc845J4YMGZJt33TTTXHNNdfEyy+/HEOHDs0C9lVWWaXRl+3YsWPsuuuu2R8Ztttuu1h33XVjrbXWyt65f/HFF+Oqq66K5557Lh588MHYd999Y8KECdG+vTn8Gg3tBAIECBAgQIAAAQIECLRSgaoF6H/605+ykfJjjjkmC87r8ltvvfXi7rvvjh122CF+9rOfxT777BN77bVXXac06tiIESOyYDwF0ffee2/2R4BSBek6W265ZZx11llZkD569OjyHxFKZRrynUbgU/01pS9/+ctx4oknZo/S//GPf8z+YHHXXXdlj7vXVN4+AgQIECBAgAABAgQIEGh7AlUbon311VczzRScllKa/K2U0ozulWmllVaK008/PXtX/de//nXloeXKP/744/Hwww9ndaTH59MI/bJp5MiR0adPn2z3mDFjYsGCBcsWqXe7tuC8dGJ6F/3MM88sbZbbVN4hQ4AAAQIECBAgQIAAAQJtWqBqAXrpXe9NNtmkDNy1a9dy/qOPPirnS5mdd945yz722GOlXcv9nWaPL6XKx+pL+9J3etT8yCOPzHZ98MEH8cADD1QebrZ85aPz6Z17iQABAgQIECBAgAABAgSKI1C1AD29651S5XJpPXv2LMu//vrr5XwpUwpa0wzozZXSu94pde/ePfr161drtWnytlKaOHFiKdus3+l991LaeuutS1nfBAgQIECAAAECBAgQIFAAgaoF6KXZ0N94440yc5rFPU2ellJNo9SVwXT5pOXMpOXPUkrtqesx9MqAuXTOcl46Oz0ttZYmyUuP16eZ3lNac80149vf/naW9x8CBAgQIECAAAECBAgQKIZA1QL0NKN5Smld8Mr01a9+NXvP/OKLL45XXnmlfOjRRx+NSy65JJtYLq0Z3hwpjcinADmlDTfcsM4qe/TokY2yp0JpjfTlSYMHD87uI71zn2Zy33333eM3v/lNdt8pOP/P//zPbMm5xl7jrbfeiro+aTZ8iQABAgQIECBAgAABAgTyKVC1AD3NxL5kyZJIs5ZXpjPOOCMbyU6Psael11Iw3rdv39hzzz0jvf+dUpp1vTlS5XvupUfu66o3PQaf0scff1xXsSYf+973vhdpdH6PPfZoUh0bbbRR1PXZZZddmlSvkwgQIECAAAECBAgQIECg5QVqXver5a+bLZWWJl5Ls7W/9tprsdlmm2VX3XbbbeNXv/pVtuxYej/9ySefXKo15513XqRR9uZIpXfaU12dO3eut8q0ZntK8+bNq7dsXQWuv/76mDNnTvYHivRHh8mTJ2f3nNaG//vf/x5pSbZ11lmnriocI0CAAAECBAgQIECAAIE2JlC1AL1Tp05xww031MiZ3sdOo8jp+PPPP59NJJfWIj/iiCOiNJN7jSc2cmflrPGffvppvWfPnz8/K5OWfFueVPpjRKmO9HRAWgf9m9/8ZqT1z9NTA5MmTar3sfvS+aXv+h69T4+4G0UvafkmQIAAAQIECBAgQIBAvgSqFqDXx7DVVlvFhRdeWF+x5TpeuaxZQx5bT6PeKTXkcfjGNiz9sSCNrKdl51KgfdZZZ8W///u/N6qa+t6jb/DEwRAAADfsSURBVFRlChMgQIAAAQIECBAgQIDAChWo2jvoK/Qua7lYCorXWGON7GiaXK2uNGvWrOyx9FQmvefdEilNEDdw4MCs6ttvvz0WLFjQEpdRJwECBAgQIECAAAECBAjkUCB3AXp673zGjBnZp3KN9JaySxPQpfTqq68utSb7std78cUXy7v69OlTzjd3Js3qntLcuXPLM8w39zXUR4AAAQIECBAgQIAAAQL5E8hFgP7CCy9EmsE8BctpVDuthZ4+KZ+C4VNPPTWee+65FtErzZieHl9fdkK6ygs++OCD5c3SKHd5RzNm3n777XJtLfEofblyGQIECBAgQIAAAQIECBDIlUBVA/TFixfHyJEjY4cddogrrrgi0ih12peWX0uflH/ppZfiyiuvjB133DFOP/30bF9zCh5wwAHl6tI74DWl1I4bb7wxO7T66qvHkCFDaiq23PvSY/aPPPJIVk96F73yHfnlrlwFBAgQIECAAAECBAgQIJBrgaoG6N/61rfisssuy5ZaSwF5Wvd8+PDh8YMf/CD7pHxadi0dS8uxXX755XH44Yc3K2ia1TzNop7SddddVw6QKy8yevTobH3ytC+twZ5moK9M48ePj3bt2mWfo48+uvJQln/55ZfjL3/5y+f2V+748MMPI3mUZpNPS9BJBAgQIECAAAECBAgQIFAcgarN4n7TTTfFLbfckgW1aQT96quvzpYXq4n+iSeeiBNOOCGmTJkSt956a6RzDzvssJqKNmnfmDFjssnZ0vrme++9d4waNSobJU/b6VqpbSn17t07G/Fv7EX+8Y9/xJe+9KXsSYE0Yt+vX7/sEf6OHTvGP//5z5g4cWL2x4GUTyn9USL9kUIiQIAAAQIECBAgQIAAgeIIVC1Arwx6J0yYEN27d69VPa0L/tBDD2VroKdH3q+66qpmDdDT4/M333xzDBs2LGbPnp0F6Ms2JgXn48aNW67Hzp9++ulIn7rS0KFDs+XWunXrVlcxxwgQIECAAAECBAgQIECgjQlULUBPgWp6LPzss8+uMzgveacAPpU95phj6g1yS+c05nvfffeNZ555JtJoegrE0/vgnTt3jl69esU3v/nNOOWUU6KpQXOaVO6ee+6J++67LyZPnpzV/c4772Qzta+66qqx2WabxW677ZY9vt+SE9A1xkNZAgQIECBAgAABAgQIEFixAlUL0EvvWm+//fYNvuNS2ZZaHzxNzHbppZdmnwY36rOCgwcPzt6Tr+2c9M56enQ+fSQCBAgQIECAAAECBAgQIFCTQNUmiUvBcEppcrSGpvT4eUqlcxt6nnIECBAgQIAAAQIECBAgQCDvAlUL0A8++OBs1Pm2225rsFGaIC49Fn/ggQc2+BwFCRAgQIAAAQIECBAgQIBAaxCoWoB+xhlnxOabb55N+JZmc68vpeA8TQ6X3tf+/ve/X19xxwkQIECAAAECBAgQIECAQKsSqFqAvtpqq2WTpu20007Z5Ghp+bGxY8fG22+/Hekd84ULF2b5tC+NmB966KGRyt5///2RzpUIECBAgAABAgQIECBAgEBbEmjxSeI6dOhQr9eSJUvizjvvzD61FU5l0gzoadQ9PeaeAniJAAECBAgQIECAAAECBAi0FYEWD9BTYN2Q1JByDSnTkGspQ4AAAQIECBAgQIAAAQIE8ibQ4gH6ueeem7d71h4CBAgQIECAAAECBAgQIJA7AQF67rpEgwgQIECAAAECBAgQIECgiAJVmySuiNjumQABAgQIECBAgAABAgQI1CYgQK9Nxn4CBAgQIECAAAECBAgQILACBVr8EfeG3ktaWu2pp56K5557LmbOnJmd1rNnz9h2222z5dU6derU0KqUI0CAAAECBAgQIECAAAECrU6g6gH63Llz4yc/+Ulcc801MWvWrBoBe/ToEccff3z88Ic/jG7dutVYxk4CBAgQIECAAAECBAgQINCaBar6iPsbb7wRX/jCF+Liiy/ORs3TMmo1fdKI+kUXXRQ77rhjvPXWW63ZW9sJECBAgAABAgQIECBAgECNAlUbQU+PtH/ta1+LV199NWvY1ltvHcOHD49dd9011l133WzfP//5z3j88cfjhhtuiBdeeCFeeeWV7JwpU6ZEx45Va3qNkHYSIECAAAECBAgQIECAAIHlEajaCPq1114bU6dOjXbt2sX/+T//J5599tk488wz44tf/GL07t07+6T897///XjmmWeyx9vTjaZAPZ0rESBAgAABAgQIECBAgACBtiRQtQD9D3/4QxacH3DAAdk76B06dKjVtX379nH++efHgQcemD0Cn86VCBAgQIAAAQIECBAgQIBAWxKoWoCeZmtP6Zhjjmmw57HHHpuVTaPtEgECBAgQIECAAAECBAgQaEsCVQvQP/zww8xx/fXXb7Dneuutl5WdPXt2g89RkAABAgQIECBAgAABAgQItAaBqgXoaY3zlF577bUGO5XKls5t8IkKEiBAgAABAgQIECBAgACBnAtULUDfaaedsvfJr7jiigYTXXnlldl762m5NYkAAQIECBAgQIAAAQIECLQlgaoF6IcffnjmOH78+Ow99Dlz5tTqOnfu3DjuuOPiL3/5S1bmW9/6Vq1lHSBAgAABAgQIECBAgAABAq1RoGqLiX/729+OX//61zFp0qT47W9/G3fffXcccsgh2Troa6+9djZS/s4778Rjjz0Wt9xyS8yYMSPzHThwYKRzJQIECBAgQIAAAQIECBAg0JYEqhagp/XP77zzzhg6dGg8+uij8e6770Z63L2mR96XLFmSmQ8YMCBuv/32tuTvXggQIECAAAECBAgQIECAQCZQtUfc09V79OgREyZMiF/84hfRp0+f7J30FIwv+0nHfvnLX8bDDz+cnaPvCBAgQIAAAQIECBAgQIBAWxOo2gh6CbJ9+/Zx8sknZ5/p06dHWh995syZ2eE0W/u2224bpeXVSuf4JkCAAAECBAgQIECAAAECbU2g6gF6JWgKxAXjlSLyBAgQIECAAAECBAgQIFAUgao94p5Gzjt27BgXX3xxUazdJwECBAgQIECAAAECBAgQqFWgagF6586ds3fN99xzz1ob5wABAgQIECBAgAABAgQIECiKQNUC9PXXXz8zTqPoEgECBAgQIECAAAECBAgQKLpA1QL0L37xi5n9k08+WfQ+cP8ECBAgQIAAAQIECBAgQCCqFqCfeuqp0aFDh/jZz34Ws2fP1hUECBAgQIAAAQIECBAgQKDQAlUL0Pv165etfz5t2rQYNGhQTJo0qdAd4eYJECBAgAABAgQIECBAoNgCVXsB/Jhjjsnkt9pqq3j66acjTRa30UYbxfbbbx89evTIRtdr65p27drFddddV9th+wkQIECAAAECBAgQIECAQKsTqFqAfsMNN0QKtFNK30uWLIk33ngj3nzzzToRUzkBep1EDhIgQIAAAQIECBAgQIBAKxSoWoC+8cYblwP0VuimyQQIECBAgAABAgQIECBAoFkFqhagv/766816IyojQIAAAQIECBAgQIAAAQKtWaBqk8S1ZjRtJ0CAAAECBAgQIECAAAECzS1QtRH02m5k4cKFMWvWrOxwmiyuY8fcNbG2pttPgAABAgQIECBAgAABAgSaLJCLEfQXXnghvve970Xfvn2ja9euse6662aflO/Tp0+kNdOfe+65Jt+kEwkQIECAAAECBAgQIECAQN4FqhqgL168OEaOHBk77LBDXHHFFfHiiy9G2pdmak+flH/ppZfiyiuvjB133DFOP/30bF/eUbWPAAECBAgQIECAAAECBAg0VqCqz49/61vfij/84Q9ZMJ4avs0228Quu+wS66yzTnYf77zzTjzxxBPZ6PmiRYvi8ssvj3/84x9x8803N/Y+lSdAgAABAgQIECBAgAABArkWqFqAftNNN8Utt9ySLbWWRtCvvvrq6N+/f41YKUg/4YQTYsqUKXHrrbdGOvewww6rsaydBAgQIECAAAECBAgQIECgNQpU7RH3FJCn1Lt375gwYUKtwXkqkwL3hx56KLbaaqtstP2qq65KuyUCBAgQIECAAAECBAgQINBmBKoWoD/99NPZ6PnZZ58d3bt3rxc0lUllU0rnSgQIECBAgAABAgQIECBAoC0JVC1A//TTTzPH7bffvsGepbILFixo8DkKEiBAgAABAgQIECBAgACB1iBQtQB9k002yXw+/PDDBjvNnj07K1s6t8EnKkiAAAECBAgQIECAAAECBHIuULUA/eCDD87eJ7/tttsaTJQmiGvXrl0ceOCBDT5HQQIECBAgQIAAAQIECBAg0BoEqhagn3HGGbH55ptHmvAtzeZeX0rBeSq72Wabxfe///36ijtOgAABAgQIECBAgAABAgRalUDVAvTVVlst7rvvvthpp53i8MMPjwMOOCDGjh0bb7/9dqR3zBcuXJjl0740Yn7ooYdmZe+///5I50oECBAgQIAAAQIECBAgQKAtCVRtHfQOHTqUHZcsWRJ33nln9invXCaTykyePDkbdV/mUHkzPf6eAnuJAAECBAgQIECAAAECBAi0NoGqBegp4K5My25XHivlG1KmVNY3AQIECBAgQIAAAQIECBBoTQJVC9DPPffc3DlNmzYtLr/88hg3bly8+eab0aVLl9hiiy3ikEMOiZNPPjm6devW5DbPnTs3/uu//iv+/Oc/Z08CvPrqq/Hxxx/HqquuGr1794599tknTjjhhFh33XWbfA0nEiBAgAABAgQIECBAgEDrFRCg/0/fpUfshw0bFqWl3NLuFFSnx+rT59prr80C9169ejW6t5955pkYOHBgFpAve/LMmTPj0UcfzT4///nP4+qrr87et1+2nG0CBAgQIECAAAECBAgQaNsCVZskLk+sU6ZMyYLiFJyvvPLKccEFF8SkSZMiTUj3ne98J2vqyy+/HEOHDo2PPvqo0U1P9abR8pRSoH7hhRdmI+lPPfVU3HPPPfHd73432rdvn/1x4Nvf/nb86U9/avQ1nECAAAECBAgQIECAAAECrVugaiPoeWIbMWJEzJs3Lzp27Bj33ntvDBgwoNy8vfbaK7bccss466yzIgXpo0ePjvPOO698vCGZFHynx+TTY/19+/b93Cl77713fO1rX8tmq1+0aFGceuqp8corr2Rrvn+usB0ECBAgQIAAAQIECBAg0CYFCj+C/vjjj8fDDz+cde6xxx67VHBe6vGRI0dGnz59ss0xY8Zky8CVjjXke/fdd4+bb765xuC8dP7+++8fBx10ULb5t7/9LdKovkSAAAECBAgQIECAAAECxREofICe1lkvpeHDh5eyS32nEfAjjzwy2/fBBx/EAw88sNTx5toYMmRIuaoUpEsECBAgQIAAAQIECBAgUByBwgfoEyZMyHq7e/fu0a9fv1p7ftCgQeVjEydOLOebMzN//vxydZXrxJd3yhAgQIAAAQIECBAgQIBAmxUofIA+derUrHPT7OzpHfTa0tZbb10+VDqnvKOZMg8++GC5ptIj9eUdMgQIECBAgAABAgQIECDQpgVqj0jb9G3/98198skn8d5772UbG264YZ133KNHj0ij7HPmzMnWSK+zcBMOPv3009kybunU7bbbrvzOe2Oqeuutt+osPn369DqPO0iAAAECBAgQIECAAAEC1RModIBeuWRaWl6tvlQK0EtLptVXvqHH06Ptxx13XKQZ3FNKy7w1JW200UZNOc05BAgQIECAAAECBAgQIJADgUI/4p5G0Eupc+fOpWyt3126dMmOpSXZmjOdcsopMXny5KzKo446Kvbdd9/mrF5dBAgQIECAAAECBAgQINAKBAo9gt61a9dyF3366aflfG2Z0iRuK620Um1FGr3/wgsvjGuvvTY7r3///nHFFVc0uo7SCW+++WYpW+N3esR9l112qfGYnQQIECBAgAABAgQIECBQXYFCB+irrLJKWb8hj62n989Tasjj8OWK68hcddVVMWrUqKxEmoTu7rvvzt5zr+OUOg/V9x59nSc7SIAAAQIECBAgQIAAAQJVFSj0I+5pBH2NNdbIOqC+CdZmzZqVTRCXCjfHu97/8R//ESeddFJ27U022ST+/Oc/x5prrplt+w8BAgQIECBAgAABAgQIFE+g0AF66u6+fftmvf7qq6/GwoULa/0FvPjii+Vjy7sE2h133BFHHnlkLF68ONZbb724//77w+h3mVeGAAECBAgQIECAAAEChRQofIC+xx57ZB2fHl9/8skna/0RVK5RPnDgwFrL1XcgBeOHHHJI9seANHqfRs632GKL+k5znAABAgQIECBAgAABAgTauEDhA/QDDjig3MXXX399OV+ZSSPdN954Y7Zr9dVXjyFDhlQebnB+0qRJsf/++0eabG611VaLe+65J7bZZpsGn68gAQIECBAgQIAAAQIECLRdgcIH6GlW8z333DPr4euuuy4eeeSRz/X26NGjY+rUqdn+ESNGRKdOnZYqM378+GjXrl32Ofroo5c6Vtr461//GkOHDs3eY0/rqY8bNy769etXOuybAAECBAgQIECAAAECBAouUOhZ3Et9P2bMmEiPraf1zffee+9sZvU0Sp62b7rpprj66quzor17946RI0eWTmvw99/+9rfYZ5994oMPPsjO+elPf5qNoD/33HO11rH22mtH+kgECBAgQIAAAQIECBAgUAwBAfpn/bzjjjvGzTffHMOGDYvZs2eXlz6r/Amk4DyNelcuzVZ5vK78ww8/HO+++265yOmnn17O15Y599xz47zzzqvtsP0ECBAgQIAAAQIECBAg0MYECv+Ie6k/991333jmmWciBc8pGO/WrVuk98133nnnuOiii2LKlCnRq1evUnHfBAgQIECAAAECBAgQIECgWQWMoFdwpvXIL7300uxTsbve7ODBg2PJkiW1lkvvpdf2bnqtJzlAgAABAgQIECBAgAABAoUSMIJeqO52swQIECBAgAABAgQIECCQVwEBel57RrsIECBAgAABAgQIECBAoFACAvRCdbebJUCAAAECBAgQIECAAIG8CgjQ89oz2kWAAAECBAgQIECAAAEChRIQoBequ90sAQIECBAgQIAAAQIECORVQICe157RLgIECBAgQIAAAQIECBAolIAAvVDd7WYJECBAgAABAgQIECBAIK8CAvS89ox2ESBAgAABAgQIECBAgEChBATohepuN0uAAAECBAgQIECAAAECeRUQoOe1Z7SLAAECBAgQIECAAAECBAolIEAvVHe7WQIECBAgQIAAAQIECBDIq4AAPa89o10ECBAgQIAAAQIECBAgUCgBAXqhutvNEiBAgAABAgQIECBAgEBeBQToee0Z7SJAgAABAgQIECBAgACBQgkI0AvV3W6WAAECBAgQIECAAAECBPIqIEDPa89oFwECBAgQIECAAAECBAgUSkCAXqjudrMECBAgQIAAAQIECBAgkFcBAXpee0a7CBAgQIAAAQIECBAgQKBQAgL0QnW3myVAgAABAgQIECBAgACBvAoI0PPaM9pFgAABAgQIECBAgAABAoUSEKAXqrvdLAECBAgQIECAAAECBAjkVUCAntee0S4CBAgQIECAAAECBAgQKJSAAL1Q3e1mCRAgQIAAAQIECBAgQCCvAgL0vPaMdhEgQIAAAQIECBAgQIBAoQQE6IXqbjdLgAABAgQIECBAgAABAnkVEKDntWe0iwABAgQIECBAgAABAgQKJSBAL1R3u1kCBAgQIECAAAECBAgQyKuAAD2vPaNdBAgQIECAAAECBAgQIFAoAQF6obrbzRIgQIAAAQIECBAgQIBAXgUE6HntGe0iQIAAAQIECBAgQIAAgUIJCNAL1d1ulgABAgQIECBAgAABAgTyKiBAz2vPaBcBAgQIECBAgAABAgQIFEpAgF6o7nazBAgQIECAAAECBAgQIJBXAQF6XntGuwgQIECAAAECBAgQIECgUAIC9EJ1t5slQIAAAQIECBAgQIAAgbwKCNDz2jPaRYAAAQIECBAgQIAAAQKFEhCgF6q73SwBAgQIECBAgAABAgQI5FVAgJ7XntEuAgQIECBAgAABAgQIECiUgAC9UN3tZgkQIECAAAECBAgQIEAgrwIC9Lz2jHYRIECAAAECBAgQIECAQKEEBOiF6m43S4AAAQIECBAgQIAAAQJ5FRCg57VntIsAAQIECBAgQIAAAQIECiUgQC9Ud7tZAgQIECBAgAABAgQIEMirgAA9rz2jXQQIECBAgAABAgQIECBQKAEBeqG6280SIECAAAECBAgQIECAQF4FBOh57RntIkCAAAECBAgQIECAAIFCCQjQC9XdbpYAAQIECBAgQIAAAQIE8iogQM9rz2gXAQIECBAgQIAAAQIECBRKQIBeqO52swQIECBAgAABAgQIECCQVwEBel57RrsIECBAgAABAgQIECBAoFACAvRCdbebJUCAAAECBAgQIECAAIG8CgjQ89oz2kWAAAECBAgQIECAAAEChRIQoFd097Rp02LkyJGx9dZbR/fu3aNnz57Rv3//uOSSS2Lu3LkVJRufXbx4cbzwwgtxww03xEknnZTV26VLl2jXrl32GT9+fOMrdQYBAgQIECBAgAABAgQItBmBjm3mTpbzRu68884YNmxYzJ49u1xTCsonT56cfa699toYN25c9OrVq3y8MZnf/e53cfTRRzfmFGUJECBAgAABAgQIECBAoEACRtA/6+wpU6bEoYcemgXnK6+8clxwwQUxadKkuP/+++M73/lO9nN4+eWXY+jQofHRRx816eexZMmS8nmdOnWKnXbaKbbbbrvyPhkCBAgQIECAAAECBAgQKLaAAP2z/h8xYkTMmzcvOnbsGPfee2+MGjUqBgwYEHvttVdcffXVcfHFF2e/khSkjx49ukm/mL59+8bll18ejzzySPaHgCeffDIOOuigJtXlJAIECBAgQIAAAQIECBBoewKFD9Aff/zxePjhh7OePfbYY7PAfNluTu+l9+nTJ9s9ZsyYWLBgwbJF6t3eZZdd4tRTT43ddtstunbtWm95BQgQIECAAAECBAgQIECgWAKFD9DHjh1b7vHhw4eX85WZ9u3bx5FHHpnt+uCDD+KBBx6oPCxPgAABAgQIECBAgAABAgSWW6DwAfqECRMyxDRre79+/WoFHTRoUPnYxIkTy3kZAgQIECBAgAABAgQIECDQHAKFD9CnTp2aOabZ2dM76LWltPRaKZXOKW37JkCAAAECBAgQIECAAAECyytQe0S6vDW3gvM/+eSTeO+997KWbrjhhnW2uEePHtna6HPmzIk333yzzrLVOvjWW2/Veenp06fXedxBAgQIECBAgAABAgQIEKieQKED9Mol09LyavWl9Bh8CtA//vjj+opW5fhGG21Ules29aJphvy8Wlbe04MPPhjvzlkY8zqums3CX3ksb/nOnTvX+apGtdv7+tS/xj+XfPaHsWmrVrspbeL66d+t448/vk3cS7VuorX8O1Qtn6Zc1++yKWrOIZB/Af9eNn8f+fey+U3bQo2FDtDTCHoppcCmvtSlS5esSFqSTVp+gRScv/nO+zF7XuNnxV/+qze8hn/OnB2zF7SLBV27xIwP8/nHmXQ3XTp2iLyHvYsWfBpzFy/K/uDx/Ov/bHgnKPk5gVVX6hSt609yn7uFXOxoLf8O5QKrAY3wu2wAkiIEWqmAfy+bt+P8e9m8nm2ptkIH6JXLnX366af19uv8+fOzMiuttFK9ZatRoL5H79Mj7mm5tzylFJy//cEn0WWl7nlq1lJtmbOwfXyyqF0sWtQ+5n6Wz2NauPDTWLWVrN63sF3HmL2oc7w3v0MeKVtFm+bPm9Mq2tlaGtka/h1qDZZ+l62hl7SRwPIJ+Pdy+fxKZ/v3siThuyaBQgfoq6yyStmkIY9ap8fbU2rI4/Dlildgpr736FdgUxp1qRScD/5GzUvcNaqiFiz87sxZMS86x6Z9v9CCV2l61a////buPsiqum4A+HflVcQkFR0NERJBnJxghKYGEHASxxEUYjBrCCHM/tAGHSZstFJSI0tUxumpSJSYSqimoaco46lAhWwMw7ESMkosoTIMQkBQhIffqXvdBZZ9uXd377n3c2bWe+45v9fP98zid8/bc88cqnyg9Q20c80u3bpXfMzbmaRF3a3+3sOHyr/ZojoKH1sgD7+Hjj2Djt/ruOz4GBgBgfYQ8PuydGW/L0s3rOYWKvN0YDuJpzPop5xyStZbUw9Y2759e3b/eSqct3u924lTNwQIECBAgAABAgQIECBQgkBNJ+jJ7fzzz8/4Nm3aFPv372+UcuPGjcV9gwcPLq5bIUCAAAECBAgQIECAAAEC5RCo+QR95MiRmWO6fP3pp59u1DQ9ybuwjBgxorDqkwABAgQIECBAgAABAgQIlEWg5hP0iRMnFiEffjjd13nkcuDAgViyZEm2o1evXjF27NgjC9lCgAABAgQIECBAgAABAgRKEKj5BD091XzUqFEZ4aJFi476nuv58+fHhg0bsjKzZs2KLl26NCBfvXp11NXVZT/Tp09vsM8XAgQIECBAgAABAgQIECDQHIGafop7AWjBggWRLltP7zcfN25c3HLLLdlZ8vR96dKlsXDhwqzowIEDY/bs2YVqLf5cvHhxgzrPPJOevP2f5dFHH43NmzcXvsaAAQOicPl9caMVAgQIECBAgAABAgQIEKhaAQn6odAOHTo0li1bFlOnTo2dO3dmCfrhEU/J+YoVK6L+q9kOL9PU9xkzGn+V2N13392g+jXXXCNBbyDiCwECBAgQIECAAAECBKpboOYvcS+Ed8KECfHss8/GTTfdFCkZ79GjR6T7zYcNGxYpeV6/fn12VrtQ3icBAgQIECBAgAABAgQIECingDPo9TTPPvvsuPfee7OfepubXB0zZkwcPHiwyXLNKdNkIwoQIECAAAECBAgQIECAQFUKOINelWE1KQIECBAgQIAAAQIECBDIm4AEPW8RM14CBAgQIECAAAECBAgQqEoBCXpVhtWkCBAgQIAAAQIECBAgQCBvAhL0vEXMeAkQIECAAAECBAgQIECgKgUk6FUZVpMiQIAAAQIECBAgQIAAgbwJSNDzFjHjJUCAAAECBAgQIECAAIGqFJCgV2VYTYoAAQIECBAgQIAAAQIE8iYgQc9bxIyXAAECBAgQIECAAAECBKpSQIJelWE1KQIECBAgQIAAAQIECBDIm4AEPW8RM14CBAgQIECAAAECBAgQqEoBCXpVhtWkCBAgQIAAAQIECBAgQCBvAhL0vEXMeAkQIECAAAECBAgQIECgKgUk6FUZVpMiQIAAAQIECBAgQIAAgbwJSNDzFjHjJUCAAAECBAgQIECAAIGqFJCgV2VYTYoAAQIECBAgQIAAAQIE8iYgQc9bxIyXAAECBAgQIECAAAECBKpSQIJelWE1KQIECBAgQIAAAQIECBDIm4AEPW8RM14CBAgQIECAAAECBAgQqEoBCXpVhtWkCBAgQIAAAQIECBAgQCBvAhL0vEXMeAkQIECAAAECBAgQIECgKgUk6FUZVpMiQIAAAQIECBAgQIAAgbwJSNDzFjHjJUCAAAECBAgQIECAAIGqFJCgV2VYTYoAAQIECBAgQIAAAQIE8iYgQc9bxIyXAAECBAgQIECAAAECBKpSQIJelWE1KQIECBAgQIAAAQIECBDIm4AEPW8RM14CBAgQIECAAAECBAgQqEoBCXpVhtWkCBAgQIAAAQIECBAgQCBvAhL0vEXMeAkQIECAAAECBAgQIECgKgUk6FUZVpMiQIAAAQIECBAgQIAAgbwJSNDzFjHjJUCAAAECBAgQIECAAIGqFJCgV2VYTYoAAQIECBAgQIAAAQIE8iYgQc9bxIyXAAECBAgQIECAAAECBKpSQIJelWE1KQIECBAgQIAAAQIECBDIm4AEPW8RM14CBAgQIECAAAECBAgQqEoBCXpVhtWkCBAgQIAAAQIECBAgQCBvAhL0vEXMeAkQIECAAAECBAgQIECgKgUk6FUZVpMiQIAAAQIECBAgQIAAgbwJSNDzFjHjJUCAAAECBAgQIECAAIGqFJCgV2VYTYoAAQIECBAgQIAAAQIE8iYgQc9bxIyXAAECBAgQIECAAAECBKpSQIJelWE1KQIECBAgQIAAAQIECBDIm4AEPW8RM14CBAgQIECAAAECBAgQqEoBCXpVhtWkCBAgQIAAAQIECBAgQCBvAhL0vEXMeAkQIECAAAECBAgQIECgKgUk6FUZVpMiQIAAAQIECBAgQIAAgbwJSNDzFjHjJUCAAAECBAgQIECAAIGqFJCgV2VYTYoAAQIECBAgQIAAAQIE8iYgQc9bxIyXAAECBAgQIECAAAECBKpSQIJelWE1KQIECBAgQIAAAQIECBDIm4AEPW8RM14CBAgQIECAAAECBAgQqEoBCXpVhtWkCBAgQIAAAQIECBAgQCBvAhL0ehF78cUXY/bs2XHeeefFCSecECeffHIMHz48vvSlL8WePXvqlSxt9Sc/+UlMmjQp+vTpE926dcs+0/e03UKAAAECBAgQIECAAAECtSnQuTanfeSsf/jDH8bUqVNj586dxZ0pKV+3bl328+CDD8aKFStiwIABxf0tXTlw4EBcd911sWjRogZVt2zZEuln+fLlce2118bXvva1OO44fztpgOQLAQIECBAgQIAAAQIEqlxAFngowOvXr48PfvCDWXLes2fPuOuuu+KXv/xl/PznP4+Pfexj2SHw/PPPx+WXXx6vvvpqqw+JW2+9tZicDx06NB555JF46qmnss/0PS3pDwGf/vSnW92HigQIECBAgAABAgQIECCQTwFn0A/FbdasWfHaa69F586dY+XKlfG+972vGM2LL744zj333JgzZ06kJH3+/Plx++23F/c3dyXVveeee7Liw4YNi8cffzyOP/747Hu6jP6KK66I0aNHZ2fr0yX1H/3oR0s6W9/ccSlHgAABAgQIECBAgAABApUhUPNn0NMZ7CeeeCKLxsyZMxsk54UQpfvSBw8enH1dsGBBvPHGG4Vdzf68//77Y//+/Vn5Bx54oJicFxro0aNHpO1pSeXuu+++wi6fBAgQIECAAAECBAgQIFADAjWfoKf7vgvLjBkzCqsNPtP94NOmTcu27dixI1atWtVgf1NfDh48GD/4wQ+yYukBdO9973uPWiVtHzRoULYvlU/1LAQIECBAgAABAgQIECBQGwI1n6CvWbMmi3R6avuFF17YaNTT5eeFZe3atYXVZn2+8MILsXXr1qxs/XaOVrmwPz00bvPmzUcrYhsBAgQIECBAgAABAgQIVKFAzSfoGzZsyMKans6e7kFvbElnvgtLoU7he1Ofzz33XLFI/XaKG+ut1N/f0n7qNWOVAAECBAgQIECAAAECBHIm0HhGmrOJtGa4e/fujW3btmVV0zvJj7W8/e1vz96Nvnv37vjrX/96rKJH7HvppZeK25rq56yzziqWLaWfYiP1Vuq397e//a3eno5ZTbcL7N71ary277jY8c+/d8wgmtHra7t2xr49u+L16Bp7tr/cjBrtX+T1V7fHcZ0PxJ5Do6xkyzf27Y03D926Ubd3T0WPs/0j2LIe0zG5+40DsWNH96j/+6VlrSidBPLyeygP0XJc5iFKxkig9QJ+X7be7vCalfL7sn4+UHhW1uFj9b39BWo6Qa//yrT0erWmlnQZfErQd+3a1VTRBvtb0k/qo7C0tJ/6yX2hjcY+3/Oe9zS2q0O2/9+3/6dD+m1ppxt+/HBLq7R7+RXt3mPrOvzcY//buopqNRC44447Gnz3pfUCefk91PoZtl9Nx2X7WeuJQEcI+H1ZPvVK+X35z3/+M/r161e+iWmp1QI1fYl7OoNeWLp27VpYbfSzW7du2b70SraWLC3pp9BHar+l/bRkTMoSIECAAAECBAgQIECAQGUJ1PQZ9O7duxej8frrrxfXG1vZt29ftqvw/vLGyh2+vSX9FPpIbbS0n/qXsB8+hvQ9/aFg48aNcfrpp0fv3r2Pec/90erbRqAUgXQZVeHKjfR6wzPOOKOU5tQlULKAY7JkQg20gYDjsg1QNVmygOOyZMKKbCBd1p7OnKflggsuqMgx1uKgajpBP/HEE4sxb87l5Ony9rQ053L4YsOHVlrST6GP1vTT1P3tqc30MDwLgY4WSMl5c47Xjh6n/mtHwDFZO7HO00wdl3mKVu2M1XFZXbF2WXvlxbOmL3FPZ7ZPOeWULCpNPWhp+/bt2f3nqXBL7vVO5esnIk31U/8seEv7SX1ZCBAgQIAAAQIECBAgQCCfAjWdoKeQnX/++VnkNm3aFMd6emG6NLywDB48uLDarM9CH6lw/XaOVrn+/pb2c7T2bCNAgAABAgQIECBAgACBfAjUfII+cuTILFLp0vKnn3660ag99thjxX0jRoworjdnpX///nHmmWdmReu3c7S6jz/+eLb5He94hycpHg3INgIECBAgQIAAAQIECFSpQM0n6BMnTiyG9uGHj/4KrQMHDsSSJUuycr169YqxY8cW6zRnpa6uLq688sqsaDpD/qtf/eqo1dL2whn0VD7VsxAgQIAAAQIECBAgQIBAbQjUfIKenio9atSoLNqLFi2KJ5988ojIz58/PzZs2JBtnzVrVnTp0qVBmdWrV2fJdEqop0+f3mBf4cuNN94YnTp1yr5+4hOfOOIVaumVaml7Wjp37hypvIUAAQIECBAgQIAAAQIEakeg5hP0FOoFCxZkrzRL96CPGzcu5s2bl53lXrVqVXz84x+POXPmZEfEwIEDY/bs2a06OlLdT37yk1nddevWRbpMftmyZZHW02f6ntbTksqde+652br/ECBAgAABAgQIECBAgEBtCNT0a9YKIR46dGiWJE+dOjV27twZt9xyS2FX8TMl2CtWrGjwyrTizmau3HXXXfHyyy/HQw89FOvXr4+rr776iJozZ86MO++884jtNhAgQIAAAQIECBAgQIBAdQtI0P8b3wkTJsSzzz6bnU1PiXh6HVrXrl2z94ZPmTIlbrjhhujRo0dJR8Nxxx0X6TL6yZMnx8KFC+PXv/51bNu2LU499dQYPnx4drb+sssuK6kPlQlUqkB63eDBgwcrdXjGVYMCjskaDHoOpuy4zEGQanCIjssaDLopd5hA3aH/YfZ/zB3Gr2MCBAgQIECAAAECBAgQIPAfAfegOxIIECBAgAABAgQIECBAgEAFCEjQKyAIhkCAAAECBAgQIECAAAECBCTojgECBAgQIECAAAECBAgQIFABAhL0CgiCIRAgQIAAAQIECBAgQIAAAQm6Y4AAAQIECBAgQIAAAQIECFSAgAS9AoJgCAQIECBAgAABAgQIECBAQILuGCBAgAABAgQIECBAgAABAhUgIEGvgCAYAgECBAgQIECAAAECBAgQkKA7BggQaBOBl19+OX70ox/FZz/72bjsssvi1FNPjbq6uuxn+vTpbdKnRgk0JbBu3br43Oc+F+PGjYs+ffpEt27domfPnjFw4MCYMWNGrFmzpqkm7CdQNoGdO3fG0qVLY/bs2TF69OgYMGBAnHTSSdG1a9c47bTTYsyYMfHFL34xXnnllbL1qSECpQjcfPPNxX/L07/pq1evLqU5dQkQOIpA3cFDy1G220SAAIGSBNI/3I0t11xzTSxevLix3bYTaBOBiy66KJ544okm2542bVp8/etfz5KkJgsrQKAEgZ/97GdxySWXNNlC+gPnN7/5zbj00kubLKsAgbYSeOaZZ2L48OGxf//+YherVq3K/pBU3GCFAIGSBTqX3IIGCBAg0IRA375947zzzouVK1c2UdJuAm0nsHXr1qzxM888M6ZMmRKjRo2KdGy++eab8eSTT8b8+fNjy5YtsWTJknjjjTfi29/+dtsNRssE/itw1llnxdixY+PCCy+MtH7GGWfEgQMH4qWXXorvfe978f3vfz+2bdsWV1xxRTz11FPx7ne/mx2BdhdIx+R1112XJefp6o50lZyFAIG2EXAGvW1ctUqg5gVuu+227C/t6a/tp59+emzevDn69++fuTiDXvOHR4cAjB8/PtLZ8cmTJ0enTp2OGENKgkaMGBHPP/98tu+xxx6LdNbdQqCtBNIfh452LNbvb/ny5TFp0qRsU/pMCbuFQHsL3H///XHTTTdlf2xPx+G8efOyITiD3t6R0F8tCLgHvRaibI4EOkBg7ty5kRKilJxbCFSCQHomwlVXXdVoQpQuI05n0QtLOntpIdCWAk0l56nviRMnxqBBg7JhNOcWjbYcr7ZrU+Avf/lLfOYzn8km/9WvftXtP7V5GJh1OwpI0NsRW1cECBAgUNkC6VLjwvKnP/2psOqTQIcKnHjiiVn/e/fu7dBx6Lw2Ba6//vrYtWtXpKvf0sMMLQQItK2ABL1tfbVOgAABAjkS2LdvX3G0zTm7WSxshUAbCfzhD3+I9HCutKRneVgItKfAd77zneyNLCeffHLcc8897dm1vgjUrIAEvWZDb+IECBAgcLhAuu+8sAwePLiw6pNAuwrs2bMn/vjHP8a9996bnbEsPDX7xhtvbNdx6Ky2BXbs2BGzZs3KEO6+++7sdam1LWL2BNpHwFPc28dZLwQIECBQ4QLpKcVf+MIXiqNM96tbCLSXQHr15IwZMxrt7lOf+lR8+MMfbnS/HQTKLTBnzpz4+9//nj08c+bMmeVuXnsECDQiIEFvBMZmAgQIEKgtgfvuuy97jVWa9Qc+8IHstVe1JWC2lSgwZMiQWLhwYfZWjEocnzFVp0B6IOGDDz4YnTt3jvRguLq6uuqcqFkRqEABl7hXYFAMiQABAgTaVyBd2p7OUKYlveP3K1/5SvsOQG81L5Ce1v7b3/42+0nvO3/kkUey16ul+88/9KEPZfcB1zwSgHYReP3117N3nh88eDB7tdq73vWudulXJwQI/EdAgu5IIECAAIGaFvj973+fJULpPt/u3bvHd7/73SxJr2kUk293gV69ekVKhNLP8OHD4+qrr87eeb5kyZL485//HFdeeWWky+AtBNpa4POf/3xs3Lgx+vbtG7fddltbd6d9AgQOE5CgHwbiKwECBAjUjsALL7wQ48aNi+3bt2fvR1+6dGlcdNFFtQNgphUv8JGPfCSmTJkS6RkJN9xwQ/zrX/+q+DEbYH4FUmI+b968bAIPPPBAnHDCCfmdjJETyKmAe9BzGjjDJkCAAIHSBLZu3Rrvf//7I32m+ysfeuih7Cxlaa2qTaD8AunseXrd1e7du+PRRx/1sLjyE2vxvwLpWRzpEvd3vvOdkd4mkP5oefjyu9/9rrjpF7/4RfYgubRhwoQJEvqijBUCrReQoLfeTk0CBAgQyKnAtm3b4pJLLskuHU5TSGeKpk2bltPZGHa1C/Tu3bs4xRdffLG4boVAuQX27duXNZluq0jPPmhqueOOO4pF0hVJzrgXOawQaLWAS9xbTaciAQIECORR4N///ndceuml8dxzz2XDT69Wu/766/M4FWOuEYEtW7YUZ9qzZ8/iuhUCBAgQqD4BCXr1xdSMCBAgQKARgXTJ5uWXXx6/+c1vshK33npr3HzzzY2UtplAZQikBxcWlgsuuKCw6pNA2QXSgwjT09uP9VP/wXGrVq0qlu3Xr1/Zx6NBArUoIEGvxaibMwECBGpQIN1XOWnSpFi7dm02+1mzZsWdd95ZgxKmXCkCKRnau3fvMYeT7gn+8Y9/nJXp379/jBo16pjl7SRAgACBfAu4Bz3f8TN6AhUrsGbNmti0aVNxfOme38KSth/+uqDp06cXdvsk0CYC6X7KlStXZm1ffPHFMXPmzKj/sKPDO+3atWsMHDjw8M2+EyibwO233x6zZ8+OyZMnx8iRI+Occ86JdAn7q6++mr0P/Vvf+lbxD0rpeFy4cGH2toGyDUBDBAgQIFBxAnWHLmE5WHGjMiACBHIvkBLub3zjG82eh19FzaZSsJUC6UntLVnOPvvs2Lx5c0uqKEugRQLpkuDmPPStT58+2VsG0oMNLQQ6WiD9YWnu3LnZMNIl7mPGjOnoIemfQFUJOINeVeE0GQIECBAgQCAvAj/96U9jxYoV2VnydGXRP/7xj3jllVfi+OOPj9NOOy2GDBkS48ePj6uuuip69OiRl2kZJwECBAiUIOAMegl4qhIgQIAAAQIECBAgQIAAgXIJeEhcuSS1Q4AAAQIECBAgQIAAAQIEShCQoJeApyoBAgQIECBAgAABAgQIECiXgAS9XJLaIUCAAAECBAgQIECAAAECJQhI0EvAU5UAAQIECBAgQIAAAQIECJRLQIJeLkntECBAgAABAgQIECBAgACBEgQk6CXgqUqAAAECBAgQIECAAAECBMolIEEvl6R2CBAgQIAAAQIECBAgQIBACQIS9BLwVCVAgAABAgQIECBAgAABAuUSkKCXS1I7BAgQIECAAAECBAgQIECgBAEJegl4qhIgQIAAAQIECBAgQIAAgXIJSNDLJakdAgQIECBAgAABAgQIECBQgoAEvQQ8VQkQIECAAAECBAgQIECAQLkEJOjlktQOAQIECBAgQIAAAQIECBAoQUCCXgKeqgQIECBAgAABAgQIECBAoFwCEvRySWqHAAECBAgQIECAAAECBAiUICBBLwFPVQIECBAgQIAAAQIECBAgUC4BCXq5JLVDgAABAgQIECBAgAABAgRKEJCgl4CnKgECBAgQqAWBfv36RV1dXUyfPr0WpmuOBAgQIECgwwQk6B1Gr2MCBAgQIECAAAECBAgQIPCWgAT9LQtrBAgQIECAAAECBAgQIECgwwQk6B1Gr2MCBAgQIECAAAECBAgQIPCWgAT9LQtrBAgQIECAAAECBAgQIECgwwQk6B1Gr2MCBAgQIECAAAECBAgQIPCWgAT9LQtrBAgQIECg1QJr166Na6+9NgYNGhRve9vbomvXrtGnT58YP358fPnLX44dO3a0qO1zzjkne3L6iBEjmqy3ZcuW6NSpU1Z+zpw5Dcrv3r07li1blo1tyJAhcdJJJ0WXLl2id+/eMXr06Ljnnnti165dDeq05MvixYuzftNT3jdv3txo1bQvlUk/qc6xluXLl8eUKVOib9++0b179+jVq1cMGzYs5s6dG9u3bz9WVfsIECBAgECuBf4fMoiUAn9+/QoAAAAASUVORK5CYII=\" width=\"500\">"
      ],
      "text/plain": [
       "<IPython.core.display.HTML object>"
      ]
     },
     "metadata": {},
     "output_type": "display_data"
    }
   ],
   "source": [
    "import numpy as np\n",
    "\n",
    "support = target_support\n",
    "dist_values = tf.constant([0.1, 0.6, 0.1, 0.1, 0.1])\n",
    "c_value = tf.reduce_sum(support*dist_values, axis=0)\n",
    "width = 0.5\n",
    "plot_c_value_distribution(c_value.eval(), support.eval(), dist_values.eval(), width)"
   ]
  },
  {
   "cell_type": "code",
   "execution_count": 139,
   "metadata": {},
   "outputs": [
    {
     "data": {
      "text/plain": [
       "<tf.Tensor 'strided_slice_73:0' shape=(1, 5) dtype=float32>"
      ]
     },
     "execution_count": 139,
     "metadata": {},
     "output_type": "execute_result"
    }
   ],
   "source": [
    "dist_values"
   ]
  },
  {
   "cell_type": "code",
   "execution_count": 9,
   "metadata": {},
   "outputs": [],
   "source": [
    "def project_distribution(supports, weights, target_support):\n",
    "    target_support_deltas = target_support[1:] - target_support[:-1]\n",
    "    delta_z = target_support_deltas[0]\n",
    "    \n",
    "    supports.shape.assert_is_compatible_with(weights.shape)\n",
    "    supports[0].shape.assert_is_compatible_with(target_support.shape)\n",
    "    target_support.shape.assert_has_rank(1)\n",
    "\n",
    "    v_min, v_max = target_support[0], target_support[-1]\n",
    "    batch_size = tf.shape(supports)[0]\n",
    "    num_dims = tf.shape(target_support)[0]\n",
    "    clipped_support = tf.clip_by_value(supports, v_min, v_max)[:, None, :]\n",
    "    tiled_support = tf.tile([clipped_support], [1, 1, num_dims, 1])\n",
    "    reshaped_target_support = tf.tile(target_support[:, None], [batch_size, 1])\n",
    "    reshaped_target_support = tf.reshape(reshaped_target_support,\n",
    "                                         [batch_size, num_dims, 1])\n",
    "    numerator = tf.abs(tiled_support - reshaped_target_support)\n",
    "    quotient = 1 - (numerator / delta_z)\n",
    "    clipped_quotient = tf.clip_by_value(quotient, 0, 1)\n",
    "    weights = weights[:, None, :]\n",
    "    inner_prod = clipped_quotient * weights\n",
    "    projection = tf.reduce_sum(inner_prod, 3)\n",
    "    projection = tf.reshape(projection, [batch_size, num_dims])\n",
    "    return projection"
   ]
  },
  {
   "cell_type": "code",
   "execution_count": 10,
   "metadata": {},
   "outputs": [],
   "source": [
    "def project_distribution_general(supports, weights, target_support):\n",
    "    target_support_deltas_forward = tf.pad(target_support[1:] - target_support[:-1], \n",
    "                                         tf.constant([[0,1]]), constant_values=1)\n",
    "    target_support_deltas_backward = tf.pad(target_support[:-1] - target_support[1:],\n",
    "                                          tf.constant([[1,0]]), constant_values=-1)\n",
    "    \n",
    "    supports.shape.assert_is_compatible_with(weights.shape)\n",
    "    supports[0].shape.assert_is_compatible_with(target_support.shape)\n",
    "    target_support.shape.assert_has_rank(1)\n",
    "\n",
    "    v_min, v_max = target_support[0], target_support[-1]\n",
    "    batch_size = tf.shape(supports)[0]\n",
    "    num_dims = tf.shape(target_support)[0]\n",
    "\n",
    "    clipped_support = tf.clip_by_value(supports, v_min, v_max)[:, None, :]\n",
    "    tiled_support = tf.tile([clipped_support], [1, 1, num_dims, 1])\n",
    "\n",
    "    reshaped_target_support = tf.tile(target_support[:, None], [batch_size, 1])\n",
    "    reshaped_target_support = tf.reshape(reshaped_target_support,\n",
    "                                      [batch_size, num_dims, 1])\n",
    "\n",
    "    reshaped_target_support_deltas_forward = tf.tile(target_support_deltas_forward[:, None], \n",
    "                                                    [batch_size, num_dims])\n",
    "    reshaped_target_support_deltas_forward = tf.reshape(reshaped_target_support_deltas_forward,\n",
    "                                                      [batch_size, num_dims, num_dims])\n",
    "\n",
    "    reshaped_target_support_deltas_backward = tf.tile(target_support_deltas_backward[:, None], \n",
    "                                                    [batch_size, num_dims])\n",
    "    reshaped_target_support_deltas_backward = tf.reshape(reshaped_target_support_deltas_backward,\n",
    "                                                        [batch_size, num_dims, num_dims])\n",
    "\n",
    "    numerator = tiled_support - reshaped_target_support\n",
    "    numerator_sign_mask = numerator[0] <= 0\n",
    "\n",
    "    reshaped_target_support_deltas = tf.where(numerator_sign_mask, \n",
    "                                            reshaped_target_support_deltas_backward,\n",
    "                                            reshaped_target_support_deltas_forward)\n",
    "\n",
    "    quotient = 1 - (numerator / reshaped_target_support_deltas)\n",
    "    clipped_quotient = tf.clip_by_value(quotient, 0, 1)\n",
    "\n",
    "    weights = weights[:, None, :]\n",
    "    inner_prod = clipped_quotient * weights\n",
    "\n",
    "    projection = tf.reduce_sum(inner_prod, 3)\n",
    "    projection = tf.reshape(projection, [batch_size, num_dims])\n",
    "    return projection"
   ]
  },
  {
   "cell_type": "code",
   "execution_count": 44,
   "metadata": {},
   "outputs": [],
   "source": [
    "ratio_cmin = 0.01\n",
    "ratio_cmax = 10\n",
    "ratio_num_atoms = 51\n",
    "ratio_discount_factor = 16.3\n",
    "constant_term = -1.5"
   ]
  },
  {
   "cell_type": "code",
   "execution_count": 45,
   "metadata": {},
   "outputs": [],
   "source": [
    "fixed_support = tf.linspace(float(ratio_cmin), float(ratio_cmax), ratio_num_atoms)\n",
    "probs = tf.reshape(tf.constant([math.cos(x)**2 for x in np.linspace(0,3.14,ratio_num_atoms)]), [1,-1])\n",
    "new_support = tf.reshape(tf.add(ratio_discount_factor * fixed_support, constant_term), [1,-1])"
   ]
  },
  {
   "cell_type": "code",
   "execution_count": 46,
   "metadata": {},
   "outputs": [
    {
     "data": {
      "text/plain": [
       "TensorShape([Dimension(1), Dimension(51)])"
      ]
     },
     "execution_count": 46,
     "metadata": {},
     "output_type": "execute_result"
    }
   ],
   "source": [
    "probs.shape"
   ]
  },
  {
   "cell_type": "code",
   "execution_count": 47,
   "metadata": {},
   "outputs": [],
   "source": [
    "projection1 = project_distribution(new_support, probs, fixed_support)\n",
    "projection2 = project_distribution_general(new_support, probs, fixed_support)"
   ]
  },
  {
   "cell_type": "code",
   "execution_count": 48,
   "metadata": {},
   "outputs": [
    {
     "data": {
      "text/plain": [
       "-4.8094375e-05"
      ]
     },
     "execution_count": 48,
     "metadata": {},
     "output_type": "execute_result"
    }
   ],
   "source": [
    "tf.reduce_sum((projection2-projection1)).eval()"
   ]
  },
  {
   "cell_type": "code",
   "execution_count": 49,
   "metadata": {},
   "outputs": [
    {
     "data": {
      "text/plain": [
       "25.987335"
      ]
     },
     "execution_count": 49,
     "metadata": {},
     "output_type": "execute_result"
    }
   ],
   "source": [
    "tf.reduce_sum(probs).eval()"
   ]
  },
  {
   "cell_type": "code",
   "execution_count": 51,
   "metadata": {},
   "outputs": [
    {
     "data": {
      "text/plain": [
       "25.987335"
      ]
     },
     "execution_count": 51,
     "metadata": {},
     "output_type": "execute_result"
    }
   ],
   "source": [
    "tf.reduce_sum(projection2).eval()"
   ]
  },
  {
   "cell_type": "code",
   "execution_count": null,
   "metadata": {},
   "outputs": [],
   "source": []
  },
  {
   "cell_type": "code",
   "execution_count": null,
   "metadata": {},
   "outputs": [],
   "source": []
  },
  {
   "cell_type": "code",
   "execution_count": null,
   "metadata": {},
   "outputs": [],
   "source": []
  },
  {
   "cell_type": "code",
   "execution_count": null,
   "metadata": {},
   "outputs": [],
   "source": []
  },
  {
   "cell_type": "code",
   "execution_count": null,
   "metadata": {},
   "outputs": [],
   "source": []
  },
  {
   "cell_type": "code",
   "execution_count": null,
   "metadata": {},
   "outputs": [],
   "source": []
  },
  {
   "cell_type": "code",
   "execution_count": null,
   "metadata": {},
   "outputs": [],
   "source": []
  },
  {
   "cell_type": "code",
   "execution_count": null,
   "metadata": {},
   "outputs": [],
   "source": []
  },
  {
   "cell_type": "code",
   "execution_count": null,
   "metadata": {},
   "outputs": [],
   "source": []
  },
  {
   "cell_type": "code",
   "execution_count": null,
   "metadata": {},
   "outputs": [],
   "source": []
  },
  {
   "cell_type": "code",
   "execution_count": null,
   "metadata": {},
   "outputs": [],
   "source": []
  },
  {
   "cell_type": "code",
   "execution_count": null,
   "metadata": {},
   "outputs": [],
   "source": []
  },
  {
   "cell_type": "code",
   "execution_count": null,
   "metadata": {},
   "outputs": [],
   "source": []
  },
  {
   "cell_type": "code",
   "execution_count": null,
   "metadata": {},
   "outputs": [],
   "source": []
  },
  {
   "cell_type": "code",
   "execution_count": null,
   "metadata": {},
   "outputs": [],
   "source": []
  },
  {
   "cell_type": "code",
   "execution_count": null,
   "metadata": {},
   "outputs": [],
   "source": []
  },
  {
   "cell_type": "code",
   "execution_count": null,
   "metadata": {},
   "outputs": [],
   "source": []
  },
  {
   "cell_type": "code",
   "execution_count": null,
   "metadata": {},
   "outputs": [],
   "source": []
  },
  {
   "cell_type": "code",
   "execution_count": null,
   "metadata": {},
   "outputs": [],
   "source": []
  },
  {
   "cell_type": "code",
   "execution_count": null,
   "metadata": {},
   "outputs": [],
   "source": []
  },
  {
   "cell_type": "code",
   "execution_count": null,
   "metadata": {},
   "outputs": [],
   "source": []
  },
  {
   "cell_type": "code",
   "execution_count": null,
   "metadata": {},
   "outputs": [],
   "source": []
  },
  {
   "cell_type": "code",
   "execution_count": null,
   "metadata": {},
   "outputs": [],
   "source": []
  },
  {
   "cell_type": "code",
   "execution_count": null,
   "metadata": {},
   "outputs": [],
   "source": []
  },
  {
   "cell_type": "code",
   "execution_count": null,
   "metadata": {},
   "outputs": [],
   "source": []
  }
 ],
 "metadata": {
  "kernelspec": {
   "display_name": "Python 3",
   "language": "python",
   "name": "python3"
  },
  "language_info": {
   "codemirror_mode": {
    "name": "ipython",
    "version": 3
   },
   "file_extension": ".py",
   "mimetype": "text/x-python",
   "name": "python",
   "nbconvert_exporter": "python",
   "pygments_lexer": "ipython3",
   "version": "3.6.5"
  }
 },
 "nbformat": 4,
 "nbformat_minor": 2
}

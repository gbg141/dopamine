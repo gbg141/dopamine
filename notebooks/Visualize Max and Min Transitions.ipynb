{
 "cells": [
  {
   "cell_type": "markdown",
   "metadata": {},
   "source": [
    "# Visualize Max & Min Ratio Transitions"
   ]
  },
  {
   "cell_type": "code",
   "execution_count": 51,
   "metadata": {},
   "outputs": [],
   "source": [
    "import os\n",
    "import tensorflow as tf\n",
    "import collections\n",
    "import numpy as np\n",
    "import matplotlib.pyplot as plt\n",
    "%matplotlib inline"
   ]
  },
  {
   "cell_type": "code",
   "execution_count": 21,
   "metadata": {},
   "outputs": [],
   "source": [
    "os.chdir('/Users/gbg141/dopamine')\n",
    "from dopamine.replay_memory import cs_replay_buffer\n",
    "from dopamine.replay_memory.circular_replay_buffer import ReplayElement\n",
    "from dopamine.discrete_domains import checkpointer"
   ]
  },
  {
   "cell_type": "code",
   "execution_count": 22,
   "metadata": {},
   "outputs": [
    {
     "name": "stderr",
     "output_type": "stream",
     "text": [
      "/Users/gbg141/dopamine/dopamine-env/lib/python3.6/site-packages/tensorflow/python/client/session.py:1702: UserWarning: An interactive session is already active. This can cause out-of-memory errors in some cases. You must explicitly call `InteractiveSession.close()` to release resources held by the other session(s).\n",
      "  warnings.warn('An interactive session is already active. This can '\n"
     ]
    }
   ],
   "source": [
    "sess = tf.InteractiveSession()"
   ]
  },
  {
   "cell_type": "code",
   "execution_count": 31,
   "metadata": {},
   "outputs": [],
   "source": [
    "def load_replay_buffer(log_directory=None, game=None, extra_dir=None):\n",
    "    buffer = cs_replay_buffer.WrappedCSReplayBuffer(\n",
    "                observation_shape=(84,84),\n",
    "                stack_size=4,\n",
    "                replay_capacity=10000000,\n",
    "                extra_storage_types=[ReplayElement('beginning', (), np.bool)])\n",
    "    \n",
    "    checkpoint_file_prefix = 'ckpt'\n",
    "    if log_directory:\n",
    "        checkpoint_dir = os.path.join(log_directory, 'checkpoints')\n",
    "    else:\n",
    "        log_directory = os.path.join('./logs', game + extra_dir)\n",
    "        checkpoint_dir = os.path.join(log_directory, 'checkpoints')\n",
    "    #my_checkpointer = checkpointer.Checkpointer(checkpoint_dir, checkpoint_file_prefix)\n",
    "    latest_checkpoint_version = checkpointer.get_latest_checkpoint_number(checkpoint_dir)\n",
    "    \n",
    "    buffer.load(checkpoint_dir, latest_checkpoint_version)\n",
    "    \n",
    "    return buffer"
   ]
  },
  {
   "cell_type": "code",
   "execution_count": 150,
   "metadata": {},
   "outputs": [],
   "source": [
    "def get_transitions_by_indices(indices):\n",
    "    batch_size=len(indices)\n",
    "    transition_batch = buffer.memory.sample_transition_batch(batch_size=batch_size, indices=indices)\n",
    "    transition_type = buffer.memory.get_transition_elements()\n",
    "    \n",
    "    transitions = []\n",
    "    for i, index in enumerate(indices):\n",
    "        transition = collections.OrderedDict()\n",
    "        transition['index'] = index\n",
    "        for element, element_type in zip(transition_batch, transition_type):\n",
    "            transition[element_type.name] = element[i]\n",
    "        transitions.append(transition)\n",
    "\n",
    "    return transitions\n",
    "\n",
    "def sort_transitions_by_ratio(transitions, reverse=True):\n",
    "    transitions.sort(key= lambda x: x['sampling_probabilities'], reverse=reverse)\n",
    "    \n",
    "def keep_K_max_ratio_transitions(transitions):\n",
    "    sort_transitions_by_ratio(transitions)\n",
    "    return transitions[:min(K,len(transitions))]\n",
    "\n",
    "def keep_K_min_ratio_transitions(transitions):\n",
    "    sort_transitions_by_ratio(transitions, reverse=False)\n",
    "    return transitions[:min(K,len(transitions))]\n",
    "\n",
    "def get_max_and_min_transitions(min_idx, max_idx, batch_size):\n",
    "    max_transitions = list()\n",
    "    min_transitions = list()\n",
    "\n",
    "    idx = min_idx\n",
    "    while idx < max_index:\n",
    "        indices = [i for i in range(idx, min(batch_size + idx, max_idx))]\n",
    "        idx = idx + batch_size\n",
    "\n",
    "        transitions = get_transitions_by_indices(indices)\n",
    "\n",
    "        max_transitions = keep_K_max_ratio_transitions(max_transitions + transitions)\n",
    "\n",
    "        min_transitions = keep_K_min_ratio_transitions(min_transitions + transitions)\n",
    "        \n",
    "    return max_transitions, min_transitions\n",
    "\n",
    "def plot_transitions(transitions, columns=4, rows=4):\n",
    "    fig = plt.figure(figsize=(14, 14))\n",
    "    # ax enables access to manipulate each of subplots\n",
    "    ax = []\n",
    "\n",
    "    for i in range(columns*rows):\n",
    "        img = transitions[i]['state'][:,:,3]\n",
    "        # create subplot and append to ax\n",
    "        ax.append( fig.add_subplot(rows, columns, i+1) )\n",
    "        ax[-1].set_title(\"c:\"+str(transitions[i]['sampling_probabilities']))  # set title\n",
    "        plt.axis('off')\n",
    "        plt.imshow(img)\n",
    "    \n",
    "    plt.show()  # finally, render the plot\n",
    "    plt.close()"
   ]
  },
  {
   "cell_type": "code",
   "execution_count": 32,
   "metadata": {},
   "outputs": [
    {
     "name": "stdout",
     "output_type": "stream",
     "text": [
      "INFO:tensorflow:Creating a OutOfGraphPrioritizedReplayBuffer replay memory with the following parameters:\n",
      "INFO:tensorflow:\t observation_shape: (84, 84)\n",
      "INFO:tensorflow:\t observation_dtype: <class 'numpy.uint8'>\n",
      "INFO:tensorflow:\t stack_size: 4\n",
      "INFO:tensorflow:\t replay_capacity: 10000000\n",
      "INFO:tensorflow:\t batch_size: 32\n",
      "INFO:tensorflow:\t update_horizon: 1\n",
      "INFO:tensorflow:\t gamma: 0.990000\n"
     ]
    }
   ],
   "source": [
    "buffer = load_replay_buffer('./logs/loglog0025100101n02')"
   ]
  },
  {
   "cell_type": "code",
   "execution_count": 147,
   "metadata": {},
   "outputs": [],
   "source": [
    "K = 50\n",
    "batch_size = 100\n",
    "min_index = 0\n",
    "max_index = 20000#buffer.memory.add_count-1"
   ]
  },
  {
   "cell_type": "code",
   "execution_count": 148,
   "metadata": {},
   "outputs": [],
   "source": [
    "max_transitions, min_transitions = get_max_and_min_transitions(\n",
    "                                        min_index, max_index, batch_size)"
   ]
  },
  {
   "cell_type": "code",
   "execution_count": 149,
   "metadata": {},
   "outputs": [
    {
     "data": {
      "image/png": "[encoded data removed]",
      "text/plain": [
       "<Figure size 1008x1008 with 16 Axes>"
      ]
     },
     "metadata": {
      "needs_background": "light"
     },
     "output_type": "display_data"
    }
   ],
   "source": [
    "plot_transitions(max_transitions)"
   ]
  },
  {
   "cell_type": "code",
   "execution_count": 141,
   "metadata": {},
   "outputs": [
    {
     "data": {
      "image/png": "[encoded data removed]",
      "text/plain": [
       "<Figure size 1008x1008 with 16 Axes>"
      ]
     },
     "metadata": {
      "needs_background": "light"
     },
     "output_type": "display_data"
    }
   ],
   "source": [
    "plot_transitions(min_transitions)"
   ]
  },
  {
   "cell_type": "code",
   "execution_count": null,
   "metadata": {},
   "outputs": [],
   "source": []
  },
  {
   "cell_type": "code",
   "execution_count": null,
   "metadata": {},
   "outputs": [],
   "source": []
  },
  {
   "cell_type": "code",
   "execution_count": null,
   "metadata": {},
   "outputs": [],
   "source": []
  },
  {
   "cell_type": "code",
   "execution_count": null,
   "metadata": {},
   "outputs": [],
   "source": []
  },
  {
   "cell_type": "code",
   "execution_count": null,
   "metadata": {},
   "outputs": [],
   "source": []
  },
  {
   "cell_type": "code",
   "execution_count": null,
   "metadata": {},
   "outputs": [],
   "source": []
  },
  {
   "cell_type": "code",
   "execution_count": null,
   "metadata": {},
   "outputs": [],
   "source": []
  },
  {
   "cell_type": "code",
   "execution_count": null,
   "metadata": {},
   "outputs": [],
   "source": []
  },
  {
   "cell_type": "code",
   "execution_count": null,
   "metadata": {},
   "outputs": [],
   "source": []
  },
  {
   "cell_type": "code",
   "execution_count": null,
   "metadata": {},
   "outputs": [],
   "source": []
  },
  {
   "cell_type": "code",
   "execution_count": null,
   "metadata": {},
   "outputs": [],
   "source": []
  },
  {
   "cell_type": "code",
   "execution_count": null,
   "metadata": {},
   "outputs": [],
   "source": []
  },
  {
   "cell_type": "code",
   "execution_count": null,
   "metadata": {},
   "outputs": [],
   "source": []
  },
  {
   "cell_type": "code",
   "execution_count": null,
   "metadata": {},
   "outputs": [],
   "source": []
  },
  {
   "cell_type": "code",
   "execution_count": null,
   "metadata": {},
   "outputs": [],
   "source": []
  },
  {
   "cell_type": "code",
   "execution_count": null,
   "metadata": {},
   "outputs": [],
   "source": []
  },
  {
   "cell_type": "code",
   "execution_count": null,
   "metadata": {},
   "outputs": [],
   "source": []
  },
  {
   "cell_type": "code",
   "execution_count": null,
   "metadata": {},
   "outputs": [],
   "source": []
  },
  {
   "cell_type": "code",
   "execution_count": null,
   "metadata": {},
   "outputs": [],
   "source": []
  },
  {
   "cell_type": "code",
   "execution_count": null,
   "metadata": {},
   "outputs": [],
   "source": []
  },
  {
   "cell_type": "code",
   "execution_count": null,
   "metadata": {},
   "outputs": [],
   "source": []
  },
  {
   "cell_type": "code",
   "execution_count": null,
   "metadata": {},
   "outputs": [],
   "source": []
  },
  {
   "cell_type": "code",
   "execution_count": null,
   "metadata": {},
   "outputs": [],
   "source": []
  },
  {
   "cell_type": "code",
   "execution_count": null,
   "metadata": {},
   "outputs": [],
   "source": []
  }
 ],
 "metadata": {
  "kernelspec": {
   "display_name": "Python 3",
   "language": "python",
   "name": "python3"
  },
  "language_info": {
   "codemirror_mode": {
    "name": "ipython",
    "version": 3
   },
   "file_extension": ".py",
   "mimetype": "text/x-python",
   "name": "python",
   "nbconvert_exporter": "python",
   "pygments_lexer": "ipython3",
   "version": "3.6.5"
  }
 },
 "nbformat": 4,
 "nbformat_minor": 2
}

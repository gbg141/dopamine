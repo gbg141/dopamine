{
 "cells": [
  {
   "cell_type": "markdown",
   "metadata": {},
   "source": [
    "# Visualize Max & Min Ratio Transitions"
   ]
  },
  {
   "cell_type": "code",
   "execution_count": 1,
   "metadata": {},
   "outputs": [],
   "source": [
    "import os\n",
    "import tensorflow as tf\n",
    "import collections\n",
    "import numpy as np\n",
    "import matplotlib.pyplot as plt\n",
    "%matplotlib inline"
   ]
  },
  {
   "cell_type": "code",
   "execution_count": 2,
   "metadata": {},
   "outputs": [],
   "source": [
    "os.chdir('/home/dopamine')\n",
    "from dopamine.replay_memory import cs_replay_buffer\n",
    "from dopamine.replay_memory.circular_replay_buffer import ReplayElement\n",
    "from dopamine.discrete_domains import checkpointer"
   ]
  },
  {
   "cell_type": "code",
   "execution_count": 3,
   "metadata": {},
   "outputs": [],
   "source": [
    "os.environ['CUDA_DEVICE_ORDER']='PCI_BUS_ID'\n",
    "os.environ['CUDA_VISIBLE_DEVICES']='5'\n",
    "sess = tf.InteractiveSession()"
   ]
  },
  {
   "cell_type": "code",
   "execution_count": 9,
   "metadata": {},
   "outputs": [],
   "source": [
    "def load_replay_buffer(log_directory=None, game=None, extra_dir=None):\n",
    "    buffer = cs_replay_buffer.WrappedCSReplayBuffer(\n",
    "                observation_shape=(84,84),\n",
    "                stack_size=4,\n",
    "                replay_capacity=10000000,\n",
    "                extra_storage_types=[ReplayElement('beginning', (), np.bool)])\n",
    "    \n",
    "    checkpoint_file_prefix = 'ckpt'\n",
    "    if log_directory:\n",
    "        checkpoint_dir = os.path.join(log_directory, 'checkpoints')\n",
    "    else:\n",
    "        log_directory = os.path.join('./logs', game + extra_dir)\n",
    "        checkpoint_dir = os.path.join(log_directory, 'checkpoints')\n",
    "    #my_checkpointer = checkpointer.Checkpointer(checkpoint_dir, checkpoint_file_prefix)\n",
    "    latest_checkpoint_version = checkpointer.get_latest_checkpoint_number(checkpoint_dir)\n",
    "    \n",
    "    buffer.load(checkpoint_dir, latest_checkpoint_version)\n",
    "    \n",
    "    return buffer"
   ]
  },
  {
   "cell_type": "code",
   "execution_count": 45,
   "metadata": {},
   "outputs": [],
   "source": [
    "def get_transitions_by_indices(indices):\n",
    "    batch_size=len(indices)\n",
    "    transition_batch = buffer.memory.sample_transition_batch(batch_size=batch_size, indices=indices)\n",
    "    transition_type = buffer.memory.get_transition_elements()\n",
    "    \n",
    "    transitions = []\n",
    "    for i, index in enumerate(indices):\n",
    "        transition = collections.OrderedDict()\n",
    "        transition['index'] = index\n",
    "        for element, element_type in zip(transition_batch, transition_type):\n",
    "            transition[element_type.name] = element[i]\n",
    "        transitions.append(transition)\n",
    "\n",
    "    return transitions\n",
    "\n",
    "def sort_transitions_by_ratio(transitions, reverse=True):\n",
    "    transitions.sort(key= lambda x: x['sampling_probabilities'], reverse=reverse)\n",
    "    \n",
    "def keep_K_max_ratio_transitions(transitions):\n",
    "    sort_transitions_by_ratio(transitions)\n",
    "    return transitions[:min(K,len(transitions))]\n",
    "\n",
    "def keep_K_min_ratio_transitions(transitions):\n",
    "    sort_transitions_by_ratio(transitions, reverse=False)\n",
    "    transitions = [transition for transition in transitions if transition['sampling_probabilities']>0.0]\n",
    "    return transitions[:min(K,len(transitions))]\n",
    "\n",
    "def get_max_and_min_transitions(min_idx, max_idx, batch_size):\n",
    "    max_transitions = list()\n",
    "    min_transitions = list()\n",
    "\n",
    "    idx = min_idx\n",
    "    while idx < max_index:\n",
    "        indices = [i for i in range(idx, min(batch_size + idx, max_idx))]\n",
    "        idx = idx + batch_size\n",
    "        if idx%100000==0:\n",
    "            print(idx)\n",
    "\n",
    "        transitions = get_transitions_by_indices(indices)\n",
    "\n",
    "        max_transitions = keep_K_max_ratio_transitions(max_transitions + transitions)\n",
    "\n",
    "        min_transitions = keep_K_min_ratio_transitions(min_transitions + transitions)\n",
    "        \n",
    "    return max_transitions, min_transitions\n",
    "\n",
    "def plot_transitions(transitions, columns=4, rows=4):\n",
    "    fig = plt.figure(figsize=(14, 14))\n",
    "    # ax enables access to manipulate each of subplots\n",
    "    ax = []\n",
    "\n",
    "    for i in range(columns*rows):\n",
    "        img = transitions[i]['state'][:,:,3]\n",
    "        # create subplot and append to ax\n",
    "        ax.append( fig.add_subplot(rows, columns, i+1) )\n",
    "        ax[-1].set_title(\"c:\"+str(transitions[i]['sampling_probabilities']))  # set title\n",
    "        plt.axis('off')\n",
    "        plt.imshow(img)\n",
    "    \n",
    "    plt.show()  # finally, render the plot\n",
    "    plt.close()"
   ]
  },
  {
   "cell_type": "code",
   "execution_count": 46,
   "metadata": {},
   "outputs": [],
   "source": [
    "K = 50\n",
    "batch_size = 1000\n",
    "min_index = 0\n",
    "max_index = 10000000"
   ]
  },
  {
   "cell_type": "markdown",
   "metadata": {},
   "source": [
    "## Breakout"
   ]
  },
  {
   "cell_type": "code",
   "execution_count": 11,
   "metadata": {},
   "outputs": [
    {
     "name": "stdout",
     "output_type": "stream",
     "text": [
      "INFO:tensorflow:Creating a OutOfGraphPrioritizedReplayBuffer replay memory with the following parameters:\n",
      "INFO:tensorflow:\t observation_shape: (84, 84)\n",
      "INFO:tensorflow:\t observation_dtype: <class 'numpy.uint8'>\n",
      "INFO:tensorflow:\t stack_size: 4\n",
      "INFO:tensorflow:\t replay_capacity: 10000000\n",
      "INFO:tensorflow:\t batch_size: 32\n",
      "INFO:tensorflow:\t update_horizon: 1\n",
      "INFO:tensorflow:\t gamma: 0.990000\n"
     ]
    }
   ],
   "source": [
    "game = 'Breakout'\n",
    "extra_dir = '/logapproach/centeredRange/x2/discount97epsilon5weight002'\n",
    "\n",
    "buffer = load_replay_buffer(game=game, extra_dir=extra_dir)"
   ]
  },
  {
   "cell_type": "code",
   "execution_count": 48,
   "metadata": {
    "scrolled": true
   },
   "outputs": [
    {
     "name": "stdout",
     "output_type": "stream",
     "text": [
      "100000\n",
      "200000\n",
      "300000\n",
      "400000\n",
      "500000\n",
      "600000\n",
      "700000\n",
      "800000\n",
      "900000\n",
      "1000000\n",
      "1100000\n",
      "1200000\n",
      "1300000\n",
      "1400000\n",
      "1500000\n",
      "1600000\n",
      "1700000\n",
      "1800000\n",
      "1900000\n",
      "2000000\n",
      "2100000\n",
      "2200000\n",
      "2300000\n",
      "2400000\n",
      "2500000\n",
      "2600000\n",
      "2700000\n",
      "2800000\n",
      "2900000\n",
      "3000000\n",
      "3100000\n",
      "3200000\n",
      "3300000\n",
      "3400000\n",
      "3500000\n",
      "3600000\n",
      "3700000\n",
      "3800000\n",
      "3900000\n",
      "4000000\n",
      "4100000\n",
      "4200000\n",
      "4300000\n",
      "4400000\n",
      "4500000\n",
      "4600000\n",
      "4700000\n",
      "4800000\n",
      "4900000\n",
      "5000000\n",
      "5100000\n",
      "5200000\n",
      "5300000\n",
      "5400000\n",
      "5500000\n",
      "5600000\n",
      "5700000\n",
      "5800000\n",
      "5900000\n",
      "6000000\n",
      "6100000\n",
      "6200000\n",
      "6300000\n",
      "6400000\n",
      "6500000\n",
      "6600000\n",
      "6700000\n",
      "6800000\n",
      "6900000\n",
      "7000000\n",
      "7100000\n",
      "7200000\n",
      "7300000\n",
      "7400000\n",
      "7500000\n",
      "7600000\n",
      "7700000\n",
      "7800000\n",
      "7900000\n",
      "8000000\n",
      "8100000\n",
      "8200000\n",
      "8300000\n",
      "8400000\n",
      "8500000\n",
      "8600000\n",
      "8700000\n",
      "8800000\n",
      "8900000\n",
      "9000000\n",
      "9100000\n",
      "9200000\n",
      "9300000\n",
      "9400000\n",
      "9500000\n",
      "9600000\n",
      "9700000\n",
      "9800000\n",
      "9900000\n",
      "10000000\n"
     ]
    }
   ],
   "source": [
    "max_transitions, min_transitions = get_max_and_min_transitions(min_index, max_index, batch_size)"
   ]
  },
  {
   "cell_type": "markdown",
   "metadata": {},
   "source": [
    "### Breakout MAX ratio transitions"
   ]
  },
  {
   "cell_type": "code",
   "execution_count": 49,
   "metadata": {},
   "outputs": [
    {
     "data": {
      "image/png": "[encoded data removed]",
      "text/plain": [
       "<Figure size 1008x1008 with 16 Axes>"
      ]
     },
     "metadata": {
      "needs_background": "light"
     },
     "output_type": "display_data"
    }
   ],
   "source": [
    "plot_transitions(max_transitions)"
   ]
  },
  {
   "cell_type": "markdown",
   "metadata": {},
   "source": [
    "### Breakout MIN ratio transitions"
   ]
  },
  {
   "cell_type": "code",
   "execution_count": 50,
   "metadata": {},
   "outputs": [
    {
     "data": {
      "image/png": "[encoded data removed]",
      "text/plain": [
       "<Figure size 1008x1008 with 16 Axes>"
      ]
     },
     "metadata": {
      "needs_background": "light"
     },
     "output_type": "display_data"
    }
   ],
   "source": [
    "plot_transitions(min_transitions)"
   ]
  },
  {
   "cell_type": "code",
   "execution_count": null,
   "metadata": {},
   "outputs": [],
   "source": []
  },
  {
   "cell_type": "code",
   "execution_count": null,
   "metadata": {},
   "outputs": [],
   "source": []
  },
  {
   "cell_type": "code",
   "execution_count": null,
   "metadata": {},
   "outputs": [],
   "source": []
  },
  {
   "cell_type": "code",
   "execution_count": null,
   "metadata": {},
   "outputs": [],
   "source": []
  },
  {
   "cell_type": "code",
   "execution_count": null,
   "metadata": {},
   "outputs": [],
   "source": []
  },
  {
   "cell_type": "code",
   "execution_count": null,
   "metadata": {},
   "outputs": [],
   "source": []
  },
  {
   "cell_type": "code",
   "execution_count": null,
   "metadata": {},
   "outputs": [],
   "source": []
  },
  {
   "cell_type": "code",
   "execution_count": null,
   "metadata": {},
   "outputs": [],
   "source": []
  },
  {
   "cell_type": "code",
   "execution_count": null,
   "metadata": {},
   "outputs": [],
   "source": []
  },
  {
   "cell_type": "code",
   "execution_count": null,
   "metadata": {},
   "outputs": [],
   "source": []
  },
  {
   "cell_type": "code",
   "execution_count": null,
   "metadata": {},
   "outputs": [],
   "source": []
  },
  {
   "cell_type": "code",
   "execution_count": null,
   "metadata": {},
   "outputs": [],
   "source": []
  },
  {
   "cell_type": "code",
   "execution_count": null,
   "metadata": {},
   "outputs": [],
   "source": []
  },
  {
   "cell_type": "code",
   "execution_count": null,
   "metadata": {},
   "outputs": [],
   "source": []
  },
  {
   "cell_type": "code",
   "execution_count": null,
   "metadata": {},
   "outputs": [],
   "source": []
  },
  {
   "cell_type": "code",
   "execution_count": null,
   "metadata": {},
   "outputs": [],
   "source": []
  },
  {
   "cell_type": "code",
   "execution_count": null,
   "metadata": {},
   "outputs": [],
   "source": []
  },
  {
   "cell_type": "code",
   "execution_count": null,
   "metadata": {},
   "outputs": [],
   "source": []
  },
  {
   "cell_type": "code",
   "execution_count": null,
   "metadata": {},
   "outputs": [],
   "source": []
  },
  {
   "cell_type": "code",
   "execution_count": null,
   "metadata": {},
   "outputs": [],
   "source": []
  },
  {
   "cell_type": "code",
   "execution_count": null,
   "metadata": {},
   "outputs": [],
   "source": []
  },
  {
   "cell_type": "code",
   "execution_count": null,
   "metadata": {},
   "outputs": [],
   "source": []
  },
  {
   "cell_type": "code",
   "execution_count": null,
   "metadata": {},
   "outputs": [],
   "source": []
  },
  {
   "cell_type": "code",
   "execution_count": null,
   "metadata": {},
   "outputs": [],
   "source": []
  }
 ],
 "metadata": {
  "kernelspec": {
   "display_name": "Python 3",
   "language": "python",
   "name": "python3"
  },
  "language_info": {
   "codemirror_mode": {
    "name": "ipython",
    "version": 3
   },
   "file_extension": ".py",
   "mimetype": "text/x-python",
   "name": "python",
   "nbconvert_exporter": "python",
   "pygments_lexer": "ipython3",
   "version": "3.6.5"
  }
 },
 "nbformat": 4,
 "nbformat_minor": 2
}

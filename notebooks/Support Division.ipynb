{
 "cells": [
  {
   "cell_type": "code",
   "execution_count": 1,
   "metadata": {},
   "outputs": [],
   "source": [
    "import numpy as np\n",
    "import matplotlib.pyplot as plt\n",
    "import seaborn as sns"
   ]
  },
  {
   "cell_type": "code",
   "execution_count": 2,
   "metadata": {},
   "outputs": [],
   "source": [
    "def plot_support_division(cmin, cmax, num_atoms, log_base): \n",
    "    log_ratio_support = np.linspace(np.log(cmin)/np.log(log_base), \n",
    "                                    np.log(cmax)/np.log(log_base), \n",
    "                                    num_atoms)\n",
    "    ratio_support = np.power(log_base*np.ones_like(log_ratio_support), log_ratio_support)\n",
    "    print(ratio_support)\n",
    "    plt.figure(figsize=(22,1))\n",
    "    plt.plot(ratio_support, np.zeros_like(ratio_support), 'x')\n",
    "    base = 'e' if log_base == np.e else str(log_base)\n",
    "    plt.title('Base '+ base + ', ' + str(num_atoms) + ' atoms', fontdict={'fontsize':25})\n",
    "    sns.despine(left=True, bottom=True)\n",
    "    plt.yticks([])\n",
    "    plt.show()\n",
    "    plt.close()"
   ]
  },
  {
   "cell_type": "code",
   "execution_count": 3,
   "metadata": {},
   "outputs": [],
   "source": [
    "cmin = 0.01\n",
    "cmax = 100.\n",
    "\n",
    "quantity_atoms = [51]\n",
    "log_bases = [np.e]"
   ]
  },
  {
   "cell_type": "code",
   "execution_count": 4,
   "metadata": {},
   "outputs": [
    {
     "name": "stdout",
     "output_type": "stream",
     "text": [
      "\n",
      "__________________________________________________________________________________________________________________\n",
      "\n",
      "[1.00000000e-02 1.20226443e-02 1.44543977e-02 1.73780083e-02\n",
      " 2.08929613e-02 2.51188643e-02 3.01995172e-02 3.63078055e-02\n",
      " 4.36515832e-02 5.24807460e-02 6.30957344e-02 7.58577575e-02\n",
      " 9.12010839e-02 1.09647820e-01 1.31825674e-01 1.58489319e-01\n",
      " 1.90546072e-01 2.29086765e-01 2.75422870e-01 3.31131121e-01\n",
      " 3.98107171e-01 4.78630092e-01 5.75439937e-01 6.91830971e-01\n",
      " 8.31763771e-01 1.00000000e+00 1.20226443e+00 1.44543977e+00\n",
      " 1.73780083e+00 2.08929613e+00 2.51188643e+00 3.01995172e+00\n",
      " 3.63078055e+00 4.36515832e+00 5.24807460e+00 6.30957344e+00\n",
      " 7.58577575e+00 9.12010839e+00 1.09647820e+01 1.31825674e+01\n",
      " 1.58489319e+01 1.90546072e+01 2.29086765e+01 2.75422870e+01\n",
      " 3.31131121e+01 3.98107171e+01 4.78630092e+01 5.75439937e+01\n",
      " 6.91830971e+01 8.31763771e+01 1.00000000e+02]\n"
     ]
    },
    {
     "data": {
      "image/png": "[encoded data removed]",
      "text/plain": [
       "<Figure size 1584x72 with 1 Axes>"
      ]
     },
     "metadata": {
      "needs_background": "light"
     },
     "output_type": "display_data"
    },
    {
     "name": "stdout",
     "output_type": "stream",
     "text": [
      "\n",
      "__________________________________________________________________________________________________________________\n",
      "\n"
     ]
    }
   ],
   "source": [
    "print('\\n'+'_'*114+'\\n')\n",
    "for num_atoms in quantity_atoms:\n",
    "    for log_base in log_bases:\n",
    "        plot_support_division(cmin, cmax, num_atoms, log_base)\n",
    "        print('\\n'+'_'*114+'\\n')"
   ]
  },
  {
   "cell_type": "code",
   "execution_count": 27,
   "metadata": {},
   "outputs": [
    {
     "data": {
      "text/plain": [
       "2.718281828459045"
      ]
     },
     "execution_count": 27,
     "metadata": {},
     "output_type": "execute_result"
    }
   ],
   "source": [
    "np.power()"
   ]
  },
  {
   "cell_type": "code",
   "execution_count": null,
   "metadata": {},
   "outputs": [],
   "source": []
  }
 ],
 "metadata": {
  "kernelspec": {
   "display_name": "Python 3",
   "language": "python",
   "name": "python3"
  },
  "language_info": {
   "codemirror_mode": {
    "name": "ipython",
    "version": 3
   },
   "file_extension": ".py",
   "mimetype": "text/x-python",
   "name": "python",
   "nbconvert_exporter": "python",
   "pygments_lexer": "ipython3",
   "version": "3.6.5"
  }
 },
 "nbformat": 4,
 "nbformat_minor": 2
}
